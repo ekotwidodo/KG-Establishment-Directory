{
 "cells": [
  {
   "cell_type": "code",
   "execution_count": null,
   "metadata": {},
   "outputs": [],
   "source": [
    "import os\n",
    "import pandas as pd"
   ]
  },
  {
   "cell_type": "code",
   "execution_count": null,
   "metadata": {},
   "outputs": [],
   "source": [
    "provinsi_df = pd.read_csv(\"../regions/data/raw/provinces.csv\")\n",
    "kabupaten_df = pd.read_csv(\"../regions/data/raw/regencies.csv\")"
   ]
  },
  {
   "cell_type": "code",
   "execution_count": null,
   "metadata": {},
   "outputs": [],
   "source": [
    "def get_relasi_kabupaten_provinsi(df):\n",
    "  df['provinsi_kode'] = df['kode'].str.slice(0, 2)\n",
    "  df.rename(columns={\n",
    "    'kode': 'kabupaten_kode'\n",
    "  })\n",
    "  return df[['kabupaten_kode', 'provinsi_kode']]\n",
    "\n",
    "def get_relasi_perusahaan_kabupaten():\n",
    "  df = pd.read_csv('../establishments/data/processed/siinas_data.csv')\n",
    "  selected_df = df.drop_duplicates(subset=['id', 'regency'])\n",
    "  selected_df = selected_df[['id', 'kbli']].rename(\n",
    "    columns={\n",
    "      'id': 'id_perusahaan',\n",
    "      'regency': 'kabupaten_nama',\n",
    "    }\n",
    "  )\n",
    "  return selected_df\n",
    "\n",
    "def save_to_csv(df, filename):\n",
    "  df.to_csv(f\"../../datasets/regions/{filename}\", index=False)\n",
    "  print(f\"{filename} has been saved to datasets\")"
   ]
  }
 ],
 "metadata": {
  "kernelspec": {
   "display_name": "venv",
   "language": "python",
   "name": "python3"
  },
  "language_info": {
   "name": "python",
   "version": "3.10.6"
  }
 },
 "nbformat": 4,
 "nbformat_minor": 2
}
