{
 "cells": [
  {
   "cell_type": "code",
   "execution_count": 1,
   "metadata": {},
   "outputs": [
    {
     "data": {
      "text/plain": [
       "True"
      ]
     },
     "execution_count": 1,
     "metadata": {},
     "output_type": "execute_result"
    }
   ],
   "source": [
    "import os\n",
    "import pandas as pd\n",
    "import re\n",
    "from dotenv import load_dotenv, find_dotenv\n",
    "# load .env\n",
    "load_dotenv(find_dotenv())"
   ]
  },
  {
   "cell_type": "code",
   "execution_count": 2,
   "metadata": {},
   "outputs": [],
   "source": [
    "# Turn off SettingWithCopyWarning\n",
    "pd.options.mode.chained_assignment = None  # default='warn'\n",
    "\n",
    "directory = \"data\""
   ]
  },
  {
   "cell_type": "code",
   "execution_count": 3,
   "metadata": {},
   "outputs": [],
   "source": [
    "provinsi_df = pd.read_csv(f\"{directory}/raw/provinces.csv\", dtype=str)\n",
    "kabupaten_df = pd.read_csv(f\"{directory}/raw/regencies.csv\", dtype=str)"
   ]
  },
  {
   "cell_type": "code",
   "execution_count": 4,
   "metadata": {},
   "outputs": [
    {
     "data": {
      "text/html": [
       "<div>\n",
       "<style scoped>\n",
       "    .dataframe tbody tr th:only-of-type {\n",
       "        vertical-align: middle;\n",
       "    }\n",
       "\n",
       "    .dataframe tbody tr th {\n",
       "        vertical-align: top;\n",
       "    }\n",
       "\n",
       "    .dataframe thead th {\n",
       "        text-align: right;\n",
       "    }\n",
       "</style>\n",
       "<table border=\"1\" class=\"dataframe\">\n",
       "  <thead>\n",
       "    <tr style=\"text-align: right;\">\n",
       "      <th></th>\n",
       "      <th>kode</th>\n",
       "      <th>nama</th>\n",
       "    </tr>\n",
       "  </thead>\n",
       "  <tbody>\n",
       "    <tr>\n",
       "      <th>0</th>\n",
       "      <td>11</td>\n",
       "      <td>ACEH</td>\n",
       "    </tr>\n",
       "    <tr>\n",
       "      <th>1</th>\n",
       "      <td>12</td>\n",
       "      <td>SUMATERA UTARA</td>\n",
       "    </tr>\n",
       "    <tr>\n",
       "      <th>2</th>\n",
       "      <td>13</td>\n",
       "      <td>SUMATERA BARAT</td>\n",
       "    </tr>\n",
       "    <tr>\n",
       "      <th>3</th>\n",
       "      <td>14</td>\n",
       "      <td>RIAU</td>\n",
       "    </tr>\n",
       "    <tr>\n",
       "      <th>4</th>\n",
       "      <td>15</td>\n",
       "      <td>JAMBI</td>\n",
       "    </tr>\n",
       "  </tbody>\n",
       "</table>\n",
       "</div>"
      ],
      "text/plain": [
       "  kode            nama\n",
       "0   11            ACEH\n",
       "1   12  SUMATERA UTARA\n",
       "2   13  SUMATERA BARAT\n",
       "3   14            RIAU\n",
       "4   15           JAMBI"
      ]
     },
     "execution_count": 4,
     "metadata": {},
     "output_type": "execute_result"
    }
   ],
   "source": [
    "provinsi_df.head()"
   ]
  },
  {
   "cell_type": "code",
   "execution_count": 5,
   "metadata": {},
   "outputs": [
    {
     "data": {
      "text/html": [
       "<div>\n",
       "<style scoped>\n",
       "    .dataframe tbody tr th:only-of-type {\n",
       "        vertical-align: middle;\n",
       "    }\n",
       "\n",
       "    .dataframe tbody tr th {\n",
       "        vertical-align: top;\n",
       "    }\n",
       "\n",
       "    .dataframe thead th {\n",
       "        text-align: right;\n",
       "    }\n",
       "</style>\n",
       "<table border=\"1\" class=\"dataframe\">\n",
       "  <thead>\n",
       "    <tr style=\"text-align: right;\">\n",
       "      <th></th>\n",
       "      <th>kode</th>\n",
       "      <th>nama</th>\n",
       "    </tr>\n",
       "  </thead>\n",
       "  <tbody>\n",
       "    <tr>\n",
       "      <th>0</th>\n",
       "      <td>1101</td>\n",
       "      <td>SIMEULUE</td>\n",
       "    </tr>\n",
       "    <tr>\n",
       "      <th>1</th>\n",
       "      <td>1102</td>\n",
       "      <td>ACEH SINGKIL</td>\n",
       "    </tr>\n",
       "    <tr>\n",
       "      <th>2</th>\n",
       "      <td>1103</td>\n",
       "      <td>ACEH SELATAN</td>\n",
       "    </tr>\n",
       "    <tr>\n",
       "      <th>3</th>\n",
       "      <td>1104</td>\n",
       "      <td>ACEH TENGGARA</td>\n",
       "    </tr>\n",
       "    <tr>\n",
       "      <th>4</th>\n",
       "      <td>1105</td>\n",
       "      <td>ACEH TIMUR</td>\n",
       "    </tr>\n",
       "  </tbody>\n",
       "</table>\n",
       "</div>"
      ],
      "text/plain": [
       "   kode           nama\n",
       "0  1101       SIMEULUE\n",
       "1  1102   ACEH SINGKIL\n",
       "2  1103   ACEH SELATAN\n",
       "3  1104  ACEH TENGGARA\n",
       "4  1105     ACEH TIMUR"
      ]
     },
     "execution_count": 5,
     "metadata": {},
     "output_type": "execute_result"
    }
   ],
   "source": [
    "kabupaten_df.head()"
   ]
  },
  {
   "cell_type": "code",
   "execution_count": 6,
   "metadata": {},
   "outputs": [],
   "source": [
    "def get_provinsi(df):\n",
    "  df['nama'] = df['nama'].str.replace('KEP.', 'KEPULAUAN', regex=False)\n",
    "  return df\n",
    "\n",
    "def normalize_kabupaten_nama(kabupaten_nama):\n",
    "    # Menghilangkan spasi di antara huruf besar yang terpisah oleh satu spasi\n",
    "    normalized_kabupaten_nama = re.sub(r'\\b([A-Z])\\s+', r'\\1', kabupaten_nama)\n",
    "    return normalized_kabupaten_nama.strip()\n",
    "\n",
    "def get_kabupaten(df):\n",
    "  df['nama'] = df['nama'].apply(normalize_kabupaten_nama)\n",
    "  return df\n",
    "\n",
    "def get_relasi_kabupaten_provinsi(df):\n",
    "  df['provinsi_kode'] = df['kode'].astype(str).str.slice(0, 2)\n",
    "  df.columns = ['kabupaten_kode', 'kabupaten_nama', 'provinsi_kode']\n",
    "  selected_df = df[['kabupaten_kode', 'provinsi_kode']]\n",
    "  return selected_df\n",
    "\n",
    "def get_relasi_perusahaan_kabupaten(df):\n",
    "  siinas_df = pd.read_csv('../establishments/data/processed/siinas_data.csv')\n",
    "  siinas_df['kabupaten_nama'] = siinas_df['kabupaten_nama'].str.replace(r'\\b(Kabupaten|Kota)\\b\\s*', '', regex=True)\n",
    "  siinas_df['kabupaten_nama'] = siinas_df['kabupaten_nama'].str.upper()\n",
    "  # mengambil hanya id dan kabupaten_nama\n",
    "  selected_siinas_df = siinas_df[['id', 'kabupaten_nama']]\n",
    "  selected_df = df[['kode', 'nama']]\n",
    "  selected_df['nama'] = selected_df['nama'].apply(normalize_kabupaten_nama)\n",
    "  # merge\n",
    "  merged_df = pd.merge(selected_siinas_df, selected_df, left_on='kabupaten_nama', right_on='nama')\n",
    "  # ambil hanya id dan kode\n",
    "  selected_merged_df = merged_df[['id', 'kode']]\n",
    "  selected_merged_df.columns = ['id_perusahaan', 'kabupaten_kode']\n",
    "  return selected_merged_df\n",
    "\n",
    "def save_to_csv(df, filename):\n",
    "  df.to_csv(f\"{directory}/processed/{filename}\", index=False)\n",
    "  print(f\"{filename} has been saved to processed\")"
   ]
  },
  {
   "cell_type": "code",
   "execution_count": 7,
   "metadata": {},
   "outputs": [
    {
     "name": "stdout",
     "output_type": "stream",
     "text": [
      "provinsi.csv has been saved to processed\n",
      "kabupaten.csv has been saved to processed\n",
      "relasi_kabupaten_provinsi.csv has been saved to processed\n",
      "relasi_perusahaan_kabupaten.csv has been saved to processed\n"
     ]
    }
   ],
   "source": [
    "save_to_csv(get_provinsi(provinsi_df), 'provinsi.csv')\n",
    "save_to_csv(get_kabupaten(kabupaten_df), 'kabupaten.csv')\n",
    "relasi_kabupaten_provinsi = kabupaten_df.copy()\n",
    "save_to_csv(get_relasi_kabupaten_provinsi(relasi_kabupaten_provinsi), 'relasi_kabupaten_provinsi.csv')\n",
    "relasi_perusahaan_kabupaten = kabupaten_df.copy()\n",
    "save_to_csv(get_relasi_perusahaan_kabupaten(relasi_perusahaan_kabupaten), 'relasi_perusahaan_kabupaten.csv')"
   ]
  },
  {
   "cell_type": "markdown",
   "metadata": {},
   "source": [
    "Karena tidak ada lagi data yang diproses dan sudah sesuai, maka tinggal kita copy-paste ke dalam datasets."
   ]
  },
  {
   "cell_type": "code",
   "execution_count": 8,
   "metadata": {},
   "outputs": [],
   "source": [
    "import shutil\n",
    "\n",
    "def copy_csv(source, destination):\n",
    "  # Ensure the destination directory exists\n",
    "  if not os.path.exists(destination):\n",
    "      os.makedirs(destination)\n",
    "\n",
    "  # Loop through all files in the source directory\n",
    "  for filename in os.listdir(source):\n",
    "      # Check if the file is a CSV file\n",
    "      if filename.endswith('.csv'):\n",
    "          # Define full file paths\n",
    "          full_filename = os.path.join(source, filename)\n",
    "          if os.path.isfile(full_filename):\n",
    "              # Copy the CSV file to the destination directory\n",
    "              shutil.copy(full_filename, destination)\n",
    "\n",
    "copy_csv(f\"{directory}/processed\", \"../../datasets/regions\")"
   ]
  }
 ],
 "metadata": {
  "kernelspec": {
   "display_name": "venv",
   "language": "python",
   "name": "python3"
  },
  "language_info": {
   "codemirror_mode": {
    "name": "ipython",
    "version": 3
   },
   "file_extension": ".py",
   "mimetype": "text/x-python",
   "name": "python",
   "nbconvert_exporter": "python",
   "pygments_lexer": "ipython3",
   "version": "3.12.5"
  }
 },
 "nbformat": 4,
 "nbformat_minor": 2
}
