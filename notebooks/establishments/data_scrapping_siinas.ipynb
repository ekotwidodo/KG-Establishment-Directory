{
 "cells": [
  {
   "cell_type": "code",
   "execution_count": 1,
   "metadata": {},
   "outputs": [],
   "source": [
    "import os\n",
    "import requests\n",
    "import pandas as pd\n",
    "from tqdm import tqdm\n",
    "from bs4 import BeautifulSoup\n",
    "from dotenv import load_dotenv, find_dotenv\n",
    "# load .env\n",
    "load_dotenv(find_dotenv())"
   ]
  },
  {
   "cell_type": "code",
   "execution_count": 34,
   "metadata": {},
   "outputs": [],
   "source": [
    "# Non active InsecureRequestWarning\n",
    "requests.packages.urllib3.disable_warnings(requests.packages.urllib3.exceptions.InsecureRequestWarning)\n",
    "# Turn off SettingWithCopyWarning\n",
    "pd.options.mode.chained_assignment = None  # default='warn'"
   ]
  },
  {
   "cell_type": "code",
   "execution_count": 3,
   "metadata": {},
   "outputs": [],
   "source": [
    "# Create range of Province and Pages\n",
    "provinces = [1, 2, 3, 4, 5, 6, 7, 8, 9, 10, 11, 12, 13, 14, 15, 16, 17, 18, 19, 20, 21, 22, 23, 24, 25, 26, 27, 28, 29, 30, 31, 32, 33, 34, 35, 36, 37, 38, 99]  # Daftar provinsi\n",
    "pages = list(range(1, 3))  # Make sure big value is 3940"
   ]
  },
  {
   "cell_type": "code",
   "execution_count": 4,
   "metadata": {},
   "outputs": [],
   "source": [
    "# set base url\n",
    "base_url = os.getenv('BASE_URL_KEMPERIN')\n",
    "# Save and load csv files to scrapped\n",
    "directory = \"data\""
   ]
  },
  {
   "cell_type": "code",
   "execution_count": 5,
   "metadata": {},
   "outputs": [],
   "source": [
    "# extract each html page\n",
    "def extract_html_page(province, page):\n",
    "    data = {'id': [], 'name': [], 'address': [], 'phone': [], 'kbli': []}\n",
    "    url = f\"{base_url}?what=&prov={province}&hal={page}\"\n",
    "    \n",
    "    try:\n",
    "        response = requests.get(url, verify=False)\n",
    "        response.raise_for_status()\n",
    "    except requests.HTTPError as e:\n",
    "        print(f\"HTTP error occurred: {e}\")\n",
    "        return data\n",
    "    except requests.RequestException as e:\n",
    "        print(f\"An error occurred: {e}\")\n",
    "        return data\n",
    "\n",
    "    soup = BeautifulSoup(response.text, 'html.parser')\n",
    "    div_tb = soup.find('div', {'class':'col-md-12 col-lg-12 col-xs-12 col-sm-12'})\n",
    "    if not div_tb:\n",
    "        print(f\"No tag div in page {url}\")\n",
    "        return data\n",
    "\n",
    "    table = soup.find('table', {'id': 'newspaper-a'})\n",
    "    if not table:\n",
    "        print(f\"No table in page {url}\")\n",
    "        return data\n",
    "\n",
    "    for row in table.find_all('tr'):\n",
    "        cells = row.find_all('td')\n",
    "        if len(cells) < 3:\n",
    "            continue\n",
    "\n",
    "        establishment, address, phone = extract_establishment_info(cells[1])\n",
    "        kbli = cells[2].text.strip()\n",
    "        index_number = cells[0].text.strip().replace('.', '')\n",
    "\n",
    "        data['id'].append(int(index_number))\n",
    "        data['name'].append(establishment)\n",
    "        data['address'].append(address)\n",
    "        data['phone'].append(phone)\n",
    "        data['kbli'].append(kbli)\n",
    "\n",
    "    return data\n",
    "\n",
    "# extract each establishment\n",
    "def extract_establishment_info(cell):\n",
    "    establishment = cell.find('b').text.strip()\n",
    "    full_address = cell.find_all(text=True, recursive=False)\n",
    "    address = full_address[0].strip() if full_address else ''\n",
    "    phone = full_address[1].strip() if len(full_address) > 1 else ''\n",
    "    return establishment, address, phone\n",
    "\n",
    "# Save data to CSV file\n",
    "def save_to_csv(data, province, page):\n",
    "    df = pd.DataFrame(data)\n",
    "    path_file = os.path.join(f'{directory}/raw', f'province_{province}_page_{page}.csv')\n",
    "    df.to_csv(path_file, index=False)\n",
    "    print(f\"Data page 1 to {page} for province {province} saved to {path_file}\")\n",
    "\n",
    "# Loop through each province and page and save data to CSV files\n",
    "def generate(provinces, pages):\n",
    "    for province in tqdm(provinces):\n",
    "        for idx, page in enumerate(pages, start=1):\n",
    "            data = extract_html_page(province, page)\n",
    "\n",
    "            # Save data for every 100 pages\n",
    "            if idx % 100 == 0:\n",
    "                save_to_csv(data, province, page)\n",
    "                \n",
    "            # Save if not saved yet\n",
    "            if data['id']:\n",
    "                save_to_csv(data, province, page)\n",
    "    \n",
    "    print(\"Scraping finished!\")"
   ]
  },
  {
   "cell_type": "code",
   "execution_count": 6,
   "metadata": {},
   "outputs": [
    {
     "name": "stderr",
     "output_type": "stream",
     "text": [
      "  0%|          | 0/39 [00:00<?, ?it/s]C:\\Users\\mreko\\AppData\\Local\\Temp\\ipykernel_40816\\2248647862.py:47: DeprecationWarning: The 'text' argument to find()-type methods is deprecated. Use 'string' instead.\n",
      "  full_address = cell.find_all(text=True, recursive=False)\n"
     ]
    },
    {
     "name": "stdout",
     "output_type": "stream",
     "text": [
      "Data page 1 to 1 for province 1 saved to data/raw\\province_1_page_1.csv\n"
     ]
    },
    {
     "name": "stderr",
     "output_type": "stream",
     "text": [
      "2it [00:00,  2.55it/s]\n",
      "  3%|▎         | 1/39 [00:00<00:29,  1.27it/s]"
     ]
    },
    {
     "name": "stdout",
     "output_type": "stream",
     "text": [
      "Data page 1 to 2 for province 1 saved to data/raw\\province_1_page_2.csv\n"
     ]
    },
    {
     "name": "stderr",
     "output_type": "stream",
     "text": []
    },
    {
     "name": "stdout",
     "output_type": "stream",
     "text": [
      "Data page 1 to 1 for province 2 saved to data/raw\\province_2_page_1.csv\n"
     ]
    },
    {
     "name": "stderr",
     "output_type": "stream",
     "text": [
      "2it [00:00,  2.53it/s]\n",
      "  5%|▌         | 2/39 [00:01<00:29,  1.25it/s]"
     ]
    },
    {
     "name": "stdout",
     "output_type": "stream",
     "text": [
      "Data page 1 to 2 for province 2 saved to data/raw\\province_2_page_2.csv\n"
     ]
    },
    {
     "name": "stderr",
     "output_type": "stream",
     "text": []
    },
    {
     "name": "stdout",
     "output_type": "stream",
     "text": [
      "Data page 1 to 1 for province 3 saved to data/raw\\province_3_page_1.csv\n"
     ]
    },
    {
     "name": "stderr",
     "output_type": "stream",
     "text": [
      "2it [00:00,  2.30it/s]\n",
      "  8%|▊         | 3/39 [00:02<00:29,  1.20it/s]"
     ]
    },
    {
     "name": "stdout",
     "output_type": "stream",
     "text": [
      "Data page 1 to 2 for province 3 saved to data/raw\\province_3_page_2.csv\n"
     ]
    },
    {
     "name": "stderr",
     "output_type": "stream",
     "text": []
    },
    {
     "name": "stdout",
     "output_type": "stream",
     "text": [
      "Data page 1 to 1 for province 4 saved to data/raw\\province_4_page_1.csv\n"
     ]
    },
    {
     "name": "stderr",
     "output_type": "stream",
     "text": [
      "2it [00:01,  1.90it/s]\n",
      " 10%|█         | 4/39 [00:03<00:32,  1.08it/s]"
     ]
    },
    {
     "name": "stdout",
     "output_type": "stream",
     "text": [
      "Data page 1 to 2 for province 4 saved to data/raw\\province_4_page_2.csv\n"
     ]
    },
    {
     "name": "stderr",
     "output_type": "stream",
     "text": []
    },
    {
     "name": "stdout",
     "output_type": "stream",
     "text": [
      "Data page 1 to 1 for province 5 saved to data/raw\\province_5_page_1.csv\n"
     ]
    },
    {
     "name": "stderr",
     "output_type": "stream",
     "text": [
      "2it [00:03,  1.92s/it]\n",
      " 13%|█▎        | 5/39 [00:07<01:07,  1.97s/it]"
     ]
    },
    {
     "name": "stdout",
     "output_type": "stream",
     "text": [
      "Data page 1 to 2 for province 5 saved to data/raw\\province_5_page_2.csv\n"
     ]
    },
    {
     "name": "stderr",
     "output_type": "stream",
     "text": []
    },
    {
     "name": "stdout",
     "output_type": "stream",
     "text": [
      "Data page 1 to 1 for province 6 saved to data/raw\\province_6_page_1.csv\n"
     ]
    },
    {
     "name": "stderr",
     "output_type": "stream",
     "text": [
      "2it [00:03,  1.92s/it]\n",
      " 15%|█▌        | 6/39 [00:11<01:26,  2.61s/it]"
     ]
    },
    {
     "name": "stdout",
     "output_type": "stream",
     "text": [
      "Data page 1 to 2 for province 6 saved to data/raw\\province_6_page_2.csv\n"
     ]
    },
    {
     "name": "stderr",
     "output_type": "stream",
     "text": []
    },
    {
     "name": "stdout",
     "output_type": "stream",
     "text": [
      "Data page 1 to 1 for province 7 saved to data/raw\\province_7_page_1.csv\n"
     ]
    },
    {
     "name": "stderr",
     "output_type": "stream",
     "text": [
      "2it [00:00,  3.00it/s]\n",
      " 18%|█▊        | 7/39 [00:11<01:03,  1.98s/it]"
     ]
    },
    {
     "name": "stdout",
     "output_type": "stream",
     "text": [
      "Data page 1 to 2 for province 7 saved to data/raw\\province_7_page_2.csv\n"
     ]
    },
    {
     "name": "stderr",
     "output_type": "stream",
     "text": []
    },
    {
     "name": "stdout",
     "output_type": "stream",
     "text": [
      "Data page 1 to 1 for province 8 saved to data/raw\\province_8_page_1.csv\n"
     ]
    },
    {
     "name": "stderr",
     "output_type": "stream",
     "text": [
      "2it [00:01,  1.74it/s]\n",
      " 21%|██        | 8/39 [00:13<00:53,  1.71s/it]"
     ]
    },
    {
     "name": "stdout",
     "output_type": "stream",
     "text": [
      "Data page 1 to 2 for province 8 saved to data/raw\\province_8_page_2.csv\n"
     ]
    },
    {
     "name": "stderr",
     "output_type": "stream",
     "text": []
    },
    {
     "name": "stdout",
     "output_type": "stream",
     "text": [
      "Data page 1 to 1 for province 9 saved to data/raw\\province_9_page_1.csv\n"
     ]
    },
    {
     "name": "stderr",
     "output_type": "stream",
     "text": [
      "2it [00:00,  2.12it/s]\n",
      " 23%|██▎       | 9/39 [00:14<00:44,  1.48s/it]"
     ]
    },
    {
     "name": "stdout",
     "output_type": "stream",
     "text": [
      "Data page 1 to 2 for province 9 saved to data/raw\\province_9_page_2.csv\n"
     ]
    },
    {
     "name": "stderr",
     "output_type": "stream",
     "text": []
    },
    {
     "name": "stdout",
     "output_type": "stream",
     "text": [
      "Data page 1 to 1 for province 10 saved to data/raw\\province_10_page_1.csv\n"
     ]
    },
    {
     "name": "stderr",
     "output_type": "stream",
     "text": [
      "2it [00:00,  2.48it/s]\n",
      " 26%|██▌       | 10/39 [00:14<00:36,  1.27s/it]"
     ]
    },
    {
     "name": "stdout",
     "output_type": "stream",
     "text": [
      "Data page 1 to 2 for province 10 saved to data/raw\\province_10_page_2.csv\n"
     ]
    },
    {
     "name": "stderr",
     "output_type": "stream",
     "text": []
    },
    {
     "name": "stdout",
     "output_type": "stream",
     "text": [
      "Data page 1 to 1 for province 11 saved to data/raw\\province_11_page_1.csv\n"
     ]
    },
    {
     "name": "stderr",
     "output_type": "stream",
     "text": [
      "2it [00:00,  2.41it/s]\n",
      " 28%|██▊       | 11/39 [00:15<00:31,  1.14s/it]"
     ]
    },
    {
     "name": "stdout",
     "output_type": "stream",
     "text": [
      "Data page 1 to 2 for province 11 saved to data/raw\\province_11_page_2.csv\n"
     ]
    },
    {
     "name": "stderr",
     "output_type": "stream",
     "text": []
    },
    {
     "name": "stdout",
     "output_type": "stream",
     "text": [
      "Data page 1 to 1 for province 12 saved to data/raw\\province_12_page_1.csv\n"
     ]
    },
    {
     "name": "stderr",
     "output_type": "stream",
     "text": [
      "2it [00:01,  1.84it/s]\n",
      " 31%|███       | 12/39 [00:16<00:30,  1.12s/it]"
     ]
    },
    {
     "name": "stdout",
     "output_type": "stream",
     "text": [
      "Data page 1 to 2 for province 12 saved to data/raw\\province_12_page_2.csv\n"
     ]
    },
    {
     "name": "stderr",
     "output_type": "stream",
     "text": []
    },
    {
     "name": "stdout",
     "output_type": "stream",
     "text": [
      "Data page 1 to 1 for province 13 saved to data/raw\\province_13_page_1.csv\n"
     ]
    },
    {
     "name": "stderr",
     "output_type": "stream",
     "text": [
      "2it [00:00,  2.43it/s]\n",
      " 33%|███▎      | 13/39 [00:17<00:26,  1.03s/it]"
     ]
    },
    {
     "name": "stdout",
     "output_type": "stream",
     "text": [
      "Data page 1 to 2 for province 13 saved to data/raw\\province_13_page_2.csv\n"
     ]
    },
    {
     "name": "stderr",
     "output_type": "stream",
     "text": []
    },
    {
     "name": "stdout",
     "output_type": "stream",
     "text": [
      "Data page 1 to 1 for province 14 saved to data/raw\\province_14_page_1.csv\n"
     ]
    },
    {
     "name": "stderr",
     "output_type": "stream",
     "text": [
      "2it [00:01,  1.99it/s]\n",
      " 36%|███▌      | 14/39 [00:18<00:25,  1.03s/it]"
     ]
    },
    {
     "name": "stdout",
     "output_type": "stream",
     "text": [
      "Data page 1 to 2 for province 14 saved to data/raw\\province_14_page_2.csv\n"
     ]
    },
    {
     "name": "stderr",
     "output_type": "stream",
     "text": []
    },
    {
     "name": "stdout",
     "output_type": "stream",
     "text": [
      "Data page 1 to 1 for province 15 saved to data/raw\\province_15_page_1.csv\n"
     ]
    },
    {
     "name": "stderr",
     "output_type": "stream",
     "text": [
      "2it [00:01,  1.94it/s]\n",
      " 38%|███▊      | 15/39 [00:19<00:24,  1.03s/it]"
     ]
    },
    {
     "name": "stdout",
     "output_type": "stream",
     "text": [
      "Data page 1 to 2 for province 15 saved to data/raw\\province_15_page_2.csv\n"
     ]
    },
    {
     "name": "stderr",
     "output_type": "stream",
     "text": []
    },
    {
     "name": "stdout",
     "output_type": "stream",
     "text": [
      "Data page 1 to 1 for province 16 saved to data/raw\\province_16_page_1.csv\n"
     ]
    },
    {
     "name": "stderr",
     "output_type": "stream",
     "text": [
      "2it [00:01,  1.76it/s]\n",
      " 41%|████      | 16/39 [00:20<00:24,  1.07s/it]"
     ]
    },
    {
     "name": "stdout",
     "output_type": "stream",
     "text": [
      "Data page 1 to 2 for province 16 saved to data/raw\\province_16_page_2.csv\n"
     ]
    },
    {
     "name": "stderr",
     "output_type": "stream",
     "text": []
    },
    {
     "name": "stdout",
     "output_type": "stream",
     "text": [
      "Data page 1 to 1 for province 17 saved to data/raw\\province_17_page_1.csv\n"
     ]
    },
    {
     "name": "stderr",
     "output_type": "stream",
     "text": [
      "2it [00:00,  2.84it/s]\n",
      " 44%|████▎     | 17/39 [00:21<00:21,  1.04it/s]"
     ]
    },
    {
     "name": "stdout",
     "output_type": "stream",
     "text": [
      "Data page 1 to 2 for province 17 saved to data/raw\\province_17_page_2.csv\n"
     ]
    },
    {
     "name": "stderr",
     "output_type": "stream",
     "text": []
    },
    {
     "name": "stdout",
     "output_type": "stream",
     "text": [
      "Data page 1 to 1 for province 18 saved to data/raw\\province_18_page_1.csv\n"
     ]
    },
    {
     "name": "stderr",
     "output_type": "stream",
     "text": [
      "2it [00:01,  1.13it/s]\n",
      " 46%|████▌     | 18/39 [00:23<00:25,  1.20s/it]"
     ]
    },
    {
     "name": "stdout",
     "output_type": "stream",
     "text": [
      "Data page 1 to 2 for province 18 saved to data/raw\\province_18_page_2.csv\n"
     ]
    },
    {
     "name": "stderr",
     "output_type": "stream",
     "text": []
    },
    {
     "name": "stdout",
     "output_type": "stream",
     "text": [
      "Data page 1 to 1 for province 19 saved to data/raw\\province_19_page_1.csv\n"
     ]
    },
    {
     "name": "stderr",
     "output_type": "stream",
     "text": [
      "2it [00:01,  1.75it/s]\n",
      " 49%|████▊     | 19/39 [00:24<00:23,  1.19s/it]"
     ]
    },
    {
     "name": "stdout",
     "output_type": "stream",
     "text": [
      "Data page 1 to 2 for province 19 saved to data/raw\\province_19_page_2.csv\n"
     ]
    },
    {
     "name": "stderr",
     "output_type": "stream",
     "text": []
    },
    {
     "name": "stdout",
     "output_type": "stream",
     "text": [
      "Data page 1 to 1 for province 20 saved to data/raw\\province_20_page_1.csv\n"
     ]
    },
    {
     "name": "stderr",
     "output_type": "stream",
     "text": [
      "2it [00:01,  1.72it/s]\n",
      " 51%|█████▏    | 20/39 [00:25<00:22,  1.18s/it]"
     ]
    },
    {
     "name": "stdout",
     "output_type": "stream",
     "text": [
      "Data page 1 to 2 for province 20 saved to data/raw\\province_20_page_2.csv\n"
     ]
    },
    {
     "name": "stderr",
     "output_type": "stream",
     "text": []
    },
    {
     "name": "stdout",
     "output_type": "stream",
     "text": [
      "Data page 1 to 1 for province 21 saved to data/raw\\province_21_page_1.csv\n"
     ]
    },
    {
     "name": "stderr",
     "output_type": "stream",
     "text": [
      "2it [00:00,  2.91it/s]\n",
      " 54%|█████▍    | 21/39 [00:26<00:18,  1.04s/it]"
     ]
    },
    {
     "name": "stdout",
     "output_type": "stream",
     "text": [
      "Data page 1 to 2 for province 21 saved to data/raw\\province_21_page_2.csv\n"
     ]
    },
    {
     "name": "stderr",
     "output_type": "stream",
     "text": []
    },
    {
     "name": "stdout",
     "output_type": "stream",
     "text": [
      "Data page 1 to 1 for province 22 saved to data/raw\\province_22_page_1.csv\n"
     ]
    },
    {
     "name": "stderr",
     "output_type": "stream",
     "text": [
      "2it [00:00,  2.82it/s]\n",
      " 56%|█████▋    | 22/39 [00:26<00:15,  1.06it/s]"
     ]
    },
    {
     "name": "stdout",
     "output_type": "stream",
     "text": [
      "Data page 1 to 2 for province 22 saved to data/raw\\province_22_page_2.csv\n"
     ]
    },
    {
     "name": "stderr",
     "output_type": "stream",
     "text": []
    },
    {
     "name": "stdout",
     "output_type": "stream",
     "text": [
      "Data page 1 to 1 for province 23 saved to data/raw\\province_23_page_1.csv\n"
     ]
    },
    {
     "name": "stderr",
     "output_type": "stream",
     "text": [
      "2it [00:00,  2.41it/s]\n",
      " 59%|█████▉    | 23/39 [00:27<00:14,  1.10it/s]"
     ]
    },
    {
     "name": "stdout",
     "output_type": "stream",
     "text": [
      "Data page 1 to 2 for province 23 saved to data/raw\\province_23_page_2.csv\n"
     ]
    },
    {
     "name": "stderr",
     "output_type": "stream",
     "text": []
    },
    {
     "name": "stdout",
     "output_type": "stream",
     "text": [
      "Data page 1 to 1 for province 24 saved to data/raw\\province_24_page_1.csv\n"
     ]
    },
    {
     "name": "stderr",
     "output_type": "stream",
     "text": [
      "2it [00:07,  3.74s/it]\n",
      " 62%|██████▏   | 24/39 [00:35<00:43,  2.88s/it]"
     ]
    },
    {
     "name": "stdout",
     "output_type": "stream",
     "text": [
      "Data page 1 to 2 for province 24 saved to data/raw\\province_24_page_2.csv\n"
     ]
    },
    {
     "name": "stderr",
     "output_type": "stream",
     "text": []
    },
    {
     "name": "stdout",
     "output_type": "stream",
     "text": [
      "Data page 1 to 1 for province 25 saved to data/raw\\province_25_page_1.csv\n"
     ]
    },
    {
     "name": "stderr",
     "output_type": "stream",
     "text": [
      "2it [00:00,  2.70it/s]\n",
      " 64%|██████▍   | 25/39 [00:36<00:31,  2.24s/it]"
     ]
    },
    {
     "name": "stdout",
     "output_type": "stream",
     "text": [
      "Data page 1 to 2 for province 25 saved to data/raw\\province_25_page_2.csv\n"
     ]
    },
    {
     "name": "stderr",
     "output_type": "stream",
     "text": []
    },
    {
     "name": "stdout",
     "output_type": "stream",
     "text": [
      "Data page 1 to 1 for province 26 saved to data/raw\\province_26_page_1.csv\n"
     ]
    },
    {
     "name": "stderr",
     "output_type": "stream",
     "text": [
      "2it [00:00,  2.66it/s]\n",
      " 67%|██████▋   | 26/39 [00:36<00:23,  1.79s/it]"
     ]
    },
    {
     "name": "stdout",
     "output_type": "stream",
     "text": [
      "Data page 1 to 2 for province 26 saved to data/raw\\province_26_page_2.csv\n"
     ]
    },
    {
     "name": "stderr",
     "output_type": "stream",
     "text": []
    },
    {
     "name": "stdout",
     "output_type": "stream",
     "text": [
      "Data page 1 to 1 for province 27 saved to data/raw\\province_27_page_1.csv\n"
     ]
    },
    {
     "name": "stderr",
     "output_type": "stream",
     "text": [
      "2it [00:00,  2.19it/s]\n",
      " 69%|██████▉   | 27/39 [00:37<00:18,  1.53s/it]"
     ]
    },
    {
     "name": "stdout",
     "output_type": "stream",
     "text": [
      "Data page 1 to 2 for province 27 saved to data/raw\\province_27_page_2.csv\n"
     ]
    },
    {
     "name": "stderr",
     "output_type": "stream",
     "text": []
    },
    {
     "name": "stdout",
     "output_type": "stream",
     "text": [
      "Data page 1 to 1 for province 28 saved to data/raw\\province_28_page_1.csv\n"
     ]
    },
    {
     "name": "stderr",
     "output_type": "stream",
     "text": [
      "2it [00:00,  3.00it/s]\n",
      " 72%|███████▏  | 28/39 [00:38<00:13,  1.27s/it]"
     ]
    },
    {
     "name": "stdout",
     "output_type": "stream",
     "text": [
      "Data page 1 to 2 for province 28 saved to data/raw\\province_28_page_2.csv\n"
     ]
    },
    {
     "name": "stderr",
     "output_type": "stream",
     "text": []
    },
    {
     "name": "stdout",
     "output_type": "stream",
     "text": [
      "Data page 1 to 1 for province 29 saved to data/raw\\province_29_page_1.csv\n"
     ]
    },
    {
     "name": "stderr",
     "output_type": "stream",
     "text": [
      "2it [00:00,  2.87it/s]\n",
      " 74%|███████▍  | 29/39 [00:39<00:11,  1.10s/it]"
     ]
    },
    {
     "name": "stdout",
     "output_type": "stream",
     "text": [
      "Data page 1 to 2 for province 29 saved to data/raw\\province_29_page_2.csv\n"
     ]
    },
    {
     "name": "stderr",
     "output_type": "stream",
     "text": []
    },
    {
     "name": "stdout",
     "output_type": "stream",
     "text": [
      "Data page 1 to 1 for province 30 saved to data/raw\\province_30_page_1.csv\n"
     ]
    },
    {
     "name": "stderr",
     "output_type": "stream",
     "text": [
      "2it [00:00,  2.44it/s]\n",
      " 77%|███████▋  | 30/39 [00:39<00:09,  1.02s/it]"
     ]
    },
    {
     "name": "stdout",
     "output_type": "stream",
     "text": [
      "Data page 1 to 2 for province 30 saved to data/raw\\province_30_page_2.csv\n"
     ]
    },
    {
     "name": "stderr",
     "output_type": "stream",
     "text": []
    },
    {
     "name": "stdout",
     "output_type": "stream",
     "text": [
      "Data page 1 to 1 for province 31 saved to data/raw\\province_31_page_1.csv\n"
     ]
    },
    {
     "name": "stderr",
     "output_type": "stream",
     "text": [
      "2it [00:00,  2.79it/s]\n",
      " 79%|███████▉  | 31/39 [00:40<00:07,  1.08it/s]"
     ]
    },
    {
     "name": "stdout",
     "output_type": "stream",
     "text": [
      "Data page 1 to 2 for province 31 saved to data/raw\\province_31_page_2.csv\n"
     ]
    },
    {
     "name": "stderr",
     "output_type": "stream",
     "text": []
    },
    {
     "name": "stdout",
     "output_type": "stream",
     "text": [
      "Data page 1 to 1 for province 32 saved to data/raw\\province_32_page_1.csv\n"
     ]
    },
    {
     "name": "stderr",
     "output_type": "stream",
     "text": [
      "2it [00:02,  1.01s/it]\n",
      " 82%|████████▏ | 32/39 [00:42<00:08,  1.26s/it]"
     ]
    },
    {
     "name": "stdout",
     "output_type": "stream",
     "text": [
      "Data page 1 to 2 for province 32 saved to data/raw\\province_32_page_2.csv\n"
     ]
    },
    {
     "name": "stderr",
     "output_type": "stream",
     "text": []
    },
    {
     "name": "stdout",
     "output_type": "stream",
     "text": [
      "Data page 1 to 1 for province 33 saved to data/raw\\province_33_page_1.csv\n"
     ]
    },
    {
     "name": "stderr",
     "output_type": "stream",
     "text": [
      "2it [00:00,  2.73it/s]\n",
      " 85%|████████▍ | 33/39 [00:43<00:06,  1.10s/it]"
     ]
    },
    {
     "name": "stdout",
     "output_type": "stream",
     "text": [
      "Data page 1 to 2 for province 33 saved to data/raw\\province_33_page_2.csv\n"
     ]
    },
    {
     "name": "stderr",
     "output_type": "stream",
     "text": []
    },
    {
     "name": "stdout",
     "output_type": "stream",
     "text": [
      "Data page 1 to 1 for province 34 saved to data/raw\\province_34_page_1.csv\n"
     ]
    },
    {
     "name": "stderr",
     "output_type": "stream",
     "text": [
      "2it [00:00,  2.21it/s]\n",
      " 87%|████████▋ | 34/39 [00:44<00:05,  1.04s/it]"
     ]
    },
    {
     "name": "stdout",
     "output_type": "stream",
     "text": [
      "Data page 1 to 2 for province 34 saved to data/raw\\province_34_page_2.csv\n"
     ]
    },
    {
     "name": "stderr",
     "output_type": "stream",
     "text": []
    },
    {
     "name": "stdout",
     "output_type": "stream",
     "text": [
      "Data page 1 to 1 for province 35 saved to data/raw\\province_35_page_1.csv\n"
     ]
    },
    {
     "name": "stderr",
     "output_type": "stream",
     "text": [
      "2it [00:00,  2.46it/s]\n",
      " 90%|████████▉ | 35/39 [00:45<00:03,  1.02it/s]"
     ]
    },
    {
     "name": "stdout",
     "output_type": "stream",
     "text": [
      "Data page 1 to 1 for province 36 saved to data/raw\\province_36_page_1.csv\n"
     ]
    },
    {
     "name": "stderr",
     "output_type": "stream",
     "text": [
      "2it [00:00,  2.76it/s]\n",
      "2it [00:00,  3.04it/s] [00:45<00:02,  1.11it/s]\n",
      " 95%|█████████▍| 37/39 [00:46<00:01,  1.21it/s]"
     ]
    },
    {
     "name": "stdout",
     "output_type": "stream",
     "text": [
      "Data page 1 to 1 for province 38 saved to data/raw\\province_38_page_1.csv\n"
     ]
    },
    {
     "name": "stderr",
     "output_type": "stream",
     "text": [
      "2it [00:00,  2.79it/s]\n",
      " 97%|█████████▋| 38/39 [00:47<00:00,  1.25it/s]"
     ]
    },
    {
     "name": "stdout",
     "output_type": "stream",
     "text": [
      "Data page 1 to 2 for province 38 saved to data/raw\\province_38_page_2.csv\n"
     ]
    },
    {
     "name": "stderr",
     "output_type": "stream",
     "text": []
    },
    {
     "name": "stdout",
     "output_type": "stream",
     "text": [
      "Data page 1 to 1 for province 99 saved to data/raw\\province_99_page_1.csv\n"
     ]
    },
    {
     "name": "stderr",
     "output_type": "stream",
     "text": [
      "2it [00:00,  2.82it/s]\n",
      "100%|██████████| 39/39 [00:47<00:00,  1.23s/it]"
     ]
    },
    {
     "name": "stdout",
     "output_type": "stream",
     "text": [
      "Scraping finished!\n"
     ]
    },
    {
     "name": "stderr",
     "output_type": "stream",
     "text": [
      "\n"
     ]
    }
   ],
   "source": [
    "generate(provinces, pages)"
   ]
  }
 ],
 "metadata": {
  "kernelspec": {
   "display_name": "venv",
   "language": "python",
   "name": "python3"
  },
  "language_info": {
   "codemirror_mode": {
    "name": "ipython",
    "version": 3
   },
   "file_extension": ".py",
   "mimetype": "text/x-python",
   "name": "python",
   "nbconvert_exporter": "python",
   "pygments_lexer": "ipython3",
   "version": "3.10.6"
  }
 },
 "nbformat": 4,
 "nbformat_minor": 2
}
