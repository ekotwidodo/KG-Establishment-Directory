{
 "cells": [
  {
   "cell_type": "code",
   "execution_count": 1,
   "metadata": {},
   "outputs": [
    {
     "data": {
      "text/plain": [
       "True"
      ]
     },
     "execution_count": 1,
     "metadata": {},
     "output_type": "execute_result"
    }
   ],
   "source": [
    "import os\n",
    "import requests\n",
    "import re\n",
    "import pandas as pd\n",
    "from tqdm import tqdm\n",
    "from bs4 import BeautifulSoup\n",
    "from dotenv import load_dotenv, find_dotenv\n",
    "# load .env\n",
    "load_dotenv(find_dotenv())"
   ]
  },
  {
   "cell_type": "code",
   "execution_count": 2,
   "metadata": {},
   "outputs": [],
   "source": [
    "# Non active InsecureRequestWarning\n",
    "requests.packages.urllib3.disable_warnings(requests.packages.urllib3.exceptions.InsecureRequestWarning)\n",
    "# Turn off SettingWithCopyWarning\n",
    "pd.options.mode.chained_assignment = None  # default='warn'"
   ]
  },
  {
   "cell_type": "code",
   "execution_count": 3,
   "metadata": {},
   "outputs": [],
   "source": [
    "# Create range of Province and Pages\n",
    "provinces = [1, 2, 3, 4, 5, 6, 7, 8, 9, 10, 11, 12, 13, 14, 15, 16, 17, 18, 19, 20, 21, 22, 23, 24, 25, 26, 27, 28, 29, 30, 31, 32, 33, 34, 35, 36, 37, 38, 99]  # Daftar provinsi\n",
    "pages = list(range(1, 3))  # Make sure big value is 3940"
   ]
  },
  {
   "cell_type": "code",
   "execution_count": 4,
   "metadata": {},
   "outputs": [],
   "source": [
    "# set base url\n",
    "base_url = os.getenv('BASE_URL_KEMPERIN')\n",
    "# Save and load csv files to scrapped\n",
    "directory = \"data\""
   ]
  },
  {
   "cell_type": "code",
   "execution_count": 5,
   "metadata": {},
   "outputs": [],
   "source": [
    "# extract each html page\n",
    "def extract_html_page(province, page):\n",
    "    data = {'id': [], 'name': [], 'address': [], 'phone': [], 'kbli': []}\n",
    "    url = f\"{base_url}?what=&prov={province}&hal={page}\"\n",
    "    \n",
    "    try:\n",
    "        response = requests.get(url, verify=False)\n",
    "        response.raise_for_status()\n",
    "    except requests.HTTPError as e:\n",
    "        print(f\"HTTP error occurred: {e}\")\n",
    "        return data\n",
    "    except requests.RequestException as e:\n",
    "        print(f\"An error occurred: {e}\")\n",
    "        return data\n",
    "\n",
    "    soup = BeautifulSoup(response.text, 'html.parser')\n",
    "    div_tb = soup.find('div', {'class':'col-md-12 col-lg-12 col-xs-12 col-sm-12'})\n",
    "    if not div_tb:\n",
    "        print(f\"No tag div in page {url}\")\n",
    "        return data\n",
    "\n",
    "    table = soup.find('table', {'id': 'newspaper-a'})\n",
    "    if not table:\n",
    "        print(f\"No table in page {url}\")\n",
    "        return data\n",
    "\n",
    "    for row in table.find_all('tr'):\n",
    "        cells = row.find_all('td')\n",
    "        if len(cells) < 3:\n",
    "            continue\n",
    "\n",
    "        establishment, address, phone = extract_establishment_info(cells[1])\n",
    "        kbli = cells[2].text.strip()\n",
    "        index_number = cells[0].text.strip().replace('.', '')\n",
    "\n",
    "        data['id'].append(int(index_number))\n",
    "        data['name'].append(establishment)\n",
    "        data['address'].append(address)\n",
    "        data['phone'].append(phone)\n",
    "        data['kbli'].append(kbli)\n",
    "\n",
    "    return data\n",
    "\n",
    "# extract each establishment\n",
    "def extract_establishment_info(cell):\n",
    "    establishment = cell.find('b').text.strip()\n",
    "    full_address = cell.find_all(text=True, recursive=False)\n",
    "    address = full_address[0].strip() if full_address else ''\n",
    "    phone = full_address[1].strip() if len(full_address) > 1 else ''\n",
    "    return establishment, address, phone\n",
    "\n",
    "# Save data to CSV file\n",
    "def save_to_csv(data, province, page):\n",
    "    df = pd.DataFrame(data)\n",
    "    path_file = os.path.join(f'{directory}/raw', f'province_{province}_page_{page}.csv')\n",
    "    df.to_csv(path_file, index=False)\n",
    "    print(f\"Data page 1 to {page} for province {province} saved to {path_file}\")\n",
    "\n",
    "# Loop through each province and page and save data to CSV files\n",
    "def generate(provinces, pages):\n",
    "    for province in tqdm(provinces):\n",
    "        for idx, page in enumerate(pages, start=1):\n",
    "            data = extract_html_page(province, page)\n",
    "\n",
    "            # Save data for every 100 pages\n",
    "            if idx % 100 == 0:\n",
    "                save_to_csv(data, province, page)\n",
    "                \n",
    "            # Save if not saved yet\n",
    "            if data['id']:\n",
    "                save_to_csv(data, province, page)\n",
    "    \n",
    "    print(\"Scraping finished!\")"
   ]
  },
  {
   "cell_type": "code",
   "execution_count": 6,
   "metadata": {},
   "outputs": [
    {
     "name": "stderr",
     "output_type": "stream",
     "text": [
      "  0%|          | 0/39 [00:00<?, ?it/s]C:\\Users\\mreko\\AppData\\Local\\Temp\\ipykernel_24752\\171897212.py:47: DeprecationWarning: The 'text' argument to find()-type methods is deprecated. Use 'string' instead.\n",
      "  full_address = cell.find_all(text=True, recursive=False)\n"
     ]
    },
    {
     "name": "stdout",
     "output_type": "stream",
     "text": [
      "Data page 1 to 1 for province 1 saved to data/raw\\province_1_page_1.csv\n"
     ]
    },
    {
     "name": "stderr",
     "output_type": "stream",
     "text": [
      "  3%|▎         | 1/39 [00:00<00:22,  1.69it/s]"
     ]
    },
    {
     "name": "stdout",
     "output_type": "stream",
     "text": [
      "Data page 1 to 2 for province 1 saved to data/raw\\province_1_page_2.csv\n",
      "Data page 1 to 1 for province 2 saved to data/raw\\province_2_page_1.csv\n"
     ]
    },
    {
     "name": "stderr",
     "output_type": "stream",
     "text": [
      "  5%|▌         | 2/39 [00:01<00:23,  1.57it/s]"
     ]
    },
    {
     "name": "stdout",
     "output_type": "stream",
     "text": [
      "Data page 1 to 2 for province 2 saved to data/raw\\province_2_page_2.csv\n",
      "Data page 1 to 1 for province 3 saved to data/raw\\province_3_page_1.csv\n"
     ]
    },
    {
     "name": "stderr",
     "output_type": "stream",
     "text": [
      "  8%|▊         | 3/39 [00:01<00:22,  1.60it/s]"
     ]
    },
    {
     "name": "stdout",
     "output_type": "stream",
     "text": [
      "Data page 1 to 2 for province 3 saved to data/raw\\province_3_page_2.csv\n",
      "Data page 1 to 1 for province 4 saved to data/raw\\province_4_page_1.csv\n"
     ]
    },
    {
     "name": "stderr",
     "output_type": "stream",
     "text": [
      " 10%|█         | 4/39 [00:02<00:21,  1.64it/s]"
     ]
    },
    {
     "name": "stdout",
     "output_type": "stream",
     "text": [
      "Data page 1 to 2 for province 4 saved to data/raw\\province_4_page_2.csv\n",
      "Data page 1 to 1 for province 5 saved to data/raw\\province_5_page_1.csv\n"
     ]
    },
    {
     "name": "stderr",
     "output_type": "stream",
     "text": [
      " 13%|█▎        | 5/39 [00:03<00:22,  1.48it/s]"
     ]
    },
    {
     "name": "stdout",
     "output_type": "stream",
     "text": [
      "Data page 1 to 2 for province 5 saved to data/raw\\province_5_page_2.csv\n",
      "Data page 1 to 1 for province 6 saved to data/raw\\province_6_page_1.csv\n"
     ]
    },
    {
     "name": "stderr",
     "output_type": "stream",
     "text": [
      " 15%|█▌        | 6/39 [00:03<00:21,  1.55it/s]"
     ]
    },
    {
     "name": "stdout",
     "output_type": "stream",
     "text": [
      "Data page 1 to 2 for province 6 saved to data/raw\\province_6_page_2.csv\n",
      "Data page 1 to 1 for province 7 saved to data/raw\\province_7_page_1.csv\n"
     ]
    },
    {
     "name": "stderr",
     "output_type": "stream",
     "text": [
      " 18%|█▊        | 7/39 [00:04<00:19,  1.65it/s]"
     ]
    },
    {
     "name": "stdout",
     "output_type": "stream",
     "text": [
      "Data page 1 to 2 for province 7 saved to data/raw\\province_7_page_2.csv\n",
      "Data page 1 to 1 for province 8 saved to data/raw\\province_8_page_1.csv\n"
     ]
    },
    {
     "name": "stderr",
     "output_type": "stream",
     "text": [
      " 21%|██        | 8/39 [00:04<00:18,  1.67it/s]"
     ]
    },
    {
     "name": "stdout",
     "output_type": "stream",
     "text": [
      "Data page 1 to 2 for province 8 saved to data/raw\\province_8_page_2.csv\n",
      "Data page 1 to 1 for province 9 saved to data/raw\\province_9_page_1.csv\n"
     ]
    },
    {
     "name": "stderr",
     "output_type": "stream",
     "text": [
      " 23%|██▎       | 9/39 [00:05<00:18,  1.66it/s]"
     ]
    },
    {
     "name": "stdout",
     "output_type": "stream",
     "text": [
      "Data page 1 to 2 for province 9 saved to data/raw\\province_9_page_2.csv\n",
      "Data page 1 to 1 for province 10 saved to data/raw\\province_10_page_1.csv\n"
     ]
    },
    {
     "name": "stderr",
     "output_type": "stream",
     "text": [
      " 26%|██▌       | 10/39 [00:06<00:17,  1.61it/s]"
     ]
    },
    {
     "name": "stdout",
     "output_type": "stream",
     "text": [
      "Data page 1 to 2 for province 10 saved to data/raw\\province_10_page_2.csv\n",
      "Data page 1 to 1 for province 11 saved to data/raw\\province_11_page_1.csv\n"
     ]
    },
    {
     "name": "stderr",
     "output_type": "stream",
     "text": [
      " 28%|██▊       | 11/39 [00:07<00:18,  1.48it/s]"
     ]
    },
    {
     "name": "stdout",
     "output_type": "stream",
     "text": [
      "Data page 1 to 2 for province 11 saved to data/raw\\province_11_page_2.csv\n",
      "Data page 1 to 1 for province 12 saved to data/raw\\province_12_page_1.csv\n"
     ]
    },
    {
     "name": "stderr",
     "output_type": "stream",
     "text": [
      " 31%|███       | 12/39 [00:08<00:21,  1.28it/s]"
     ]
    },
    {
     "name": "stdout",
     "output_type": "stream",
     "text": [
      "Data page 1 to 2 for province 12 saved to data/raw\\province_12_page_2.csv\n",
      "Data page 1 to 1 for province 13 saved to data/raw\\province_13_page_1.csv\n"
     ]
    },
    {
     "name": "stderr",
     "output_type": "stream",
     "text": [
      " 33%|███▎      | 13/39 [00:09<00:22,  1.13it/s]"
     ]
    },
    {
     "name": "stdout",
     "output_type": "stream",
     "text": [
      "Data page 1 to 2 for province 13 saved to data/raw\\province_13_page_2.csv\n",
      "Data page 1 to 1 for province 14 saved to data/raw\\province_14_page_1.csv\n"
     ]
    },
    {
     "name": "stderr",
     "output_type": "stream",
     "text": [
      " 36%|███▌      | 14/39 [00:09<00:20,  1.23it/s]"
     ]
    },
    {
     "name": "stdout",
     "output_type": "stream",
     "text": [
      "Data page 1 to 2 for province 14 saved to data/raw\\province_14_page_2.csv\n",
      "Data page 1 to 1 for province 15 saved to data/raw\\province_15_page_1.csv\n"
     ]
    },
    {
     "name": "stderr",
     "output_type": "stream",
     "text": [
      " 38%|███▊      | 15/39 [00:10<00:19,  1.20it/s]"
     ]
    },
    {
     "name": "stdout",
     "output_type": "stream",
     "text": [
      "Data page 1 to 2 for province 15 saved to data/raw\\province_15_page_2.csv\n",
      "Data page 1 to 1 for province 16 saved to data/raw\\province_16_page_1.csv\n"
     ]
    },
    {
     "name": "stderr",
     "output_type": "stream",
     "text": [
      " 41%|████      | 16/39 [00:11<00:21,  1.09it/s]"
     ]
    },
    {
     "name": "stdout",
     "output_type": "stream",
     "text": [
      "Data page 1 to 2 for province 16 saved to data/raw\\province_16_page_2.csv\n",
      "Data page 1 to 1 for province 17 saved to data/raw\\province_17_page_1.csv\n"
     ]
    },
    {
     "name": "stderr",
     "output_type": "stream",
     "text": [
      " 44%|████▎     | 17/39 [00:12<00:17,  1.26it/s]"
     ]
    },
    {
     "name": "stdout",
     "output_type": "stream",
     "text": [
      "Data page 1 to 2 for province 17 saved to data/raw\\province_17_page_2.csv\n",
      "Data page 1 to 1 for province 18 saved to data/raw\\province_18_page_1.csv\n"
     ]
    },
    {
     "name": "stderr",
     "output_type": "stream",
     "text": [
      " 46%|████▌     | 18/39 [00:13<00:17,  1.23it/s]"
     ]
    },
    {
     "name": "stdout",
     "output_type": "stream",
     "text": [
      "Data page 1 to 2 for province 18 saved to data/raw\\province_18_page_2.csv\n"
     ]
    },
    {
     "name": "stderr",
     "output_type": "stream",
     "text": [
      " 49%|████▊     | 19/39 [00:13<00:14,  1.40it/s]"
     ]
    },
    {
     "name": "stdout",
     "output_type": "stream",
     "text": [
      "Data page 1 to 1 for province 19 saved to data/raw\\province_19_page_1.csv\n",
      "Data page 1 to 2 for province 19 saved to data/raw\\province_19_page_2.csv\n",
      "Data page 1 to 1 for province 20 saved to data/raw\\province_20_page_1.csv\n"
     ]
    },
    {
     "name": "stderr",
     "output_type": "stream",
     "text": [
      " 51%|█████▏    | 20/39 [00:14<00:13,  1.38it/s]"
     ]
    },
    {
     "name": "stdout",
     "output_type": "stream",
     "text": [
      "Data page 1 to 2 for province 20 saved to data/raw\\province_20_page_2.csv\n",
      "Data page 1 to 1 for province 21 saved to data/raw\\province_21_page_1.csv\n"
     ]
    },
    {
     "name": "stderr",
     "output_type": "stream",
     "text": [
      " 54%|█████▍    | 21/39 [00:15<00:16,  1.10it/s]"
     ]
    },
    {
     "name": "stdout",
     "output_type": "stream",
     "text": [
      "Data page 1 to 2 for province 21 saved to data/raw\\province_21_page_2.csv\n",
      "Data page 1 to 1 for province 22 saved to data/raw\\province_22_page_1.csv\n"
     ]
    },
    {
     "name": "stderr",
     "output_type": "stream",
     "text": [
      " 56%|█████▋    | 22/39 [00:16<00:13,  1.25it/s]"
     ]
    },
    {
     "name": "stdout",
     "output_type": "stream",
     "text": [
      "Data page 1 to 2 for province 22 saved to data/raw\\province_22_page_2.csv\n",
      "Data page 1 to 1 for province 23 saved to data/raw\\province_23_page_1.csv\n"
     ]
    },
    {
     "name": "stderr",
     "output_type": "stream",
     "text": [
      " 59%|█████▉    | 23/39 [00:16<00:12,  1.33it/s]"
     ]
    },
    {
     "name": "stdout",
     "output_type": "stream",
     "text": [
      "Data page 1 to 2 for province 23 saved to data/raw\\province_23_page_2.csv\n",
      "Data page 1 to 1 for province 24 saved to data/raw\\province_24_page_1.csv\n"
     ]
    },
    {
     "name": "stderr",
     "output_type": "stream",
     "text": [
      " 62%|██████▏   | 24/39 [00:17<00:10,  1.47it/s]"
     ]
    },
    {
     "name": "stdout",
     "output_type": "stream",
     "text": [
      "Data page 1 to 2 for province 24 saved to data/raw\\province_24_page_2.csv\n",
      "Data page 1 to 1 for province 25 saved to data/raw\\province_25_page_1.csv\n"
     ]
    },
    {
     "name": "stderr",
     "output_type": "stream",
     "text": [
      " 64%|██████▍   | 25/39 [00:18<00:09,  1.47it/s]"
     ]
    },
    {
     "name": "stdout",
     "output_type": "stream",
     "text": [
      "Data page 1 to 2 for province 25 saved to data/raw\\province_25_page_2.csv\n",
      "Data page 1 to 1 for province 26 saved to data/raw\\province_26_page_1.csv\n"
     ]
    },
    {
     "name": "stderr",
     "output_type": "stream",
     "text": [
      " 67%|██████▋   | 26/39 [00:18<00:08,  1.54it/s]"
     ]
    },
    {
     "name": "stdout",
     "output_type": "stream",
     "text": [
      "Data page 1 to 2 for province 26 saved to data/raw\\province_26_page_2.csv\n",
      "Data page 1 to 1 for province 27 saved to data/raw\\province_27_page_1.csv\n"
     ]
    },
    {
     "name": "stderr",
     "output_type": "stream",
     "text": [
      " 69%|██████▉   | 27/39 [00:19<00:07,  1.57it/s]"
     ]
    },
    {
     "name": "stdout",
     "output_type": "stream",
     "text": [
      "Data page 1 to 2 for province 27 saved to data/raw\\province_27_page_2.csv\n",
      "Data page 1 to 1 for province 28 saved to data/raw\\province_28_page_1.csv\n"
     ]
    },
    {
     "name": "stderr",
     "output_type": "stream",
     "text": [
      " 72%|███████▏  | 28/39 [00:19<00:06,  1.66it/s]"
     ]
    },
    {
     "name": "stdout",
     "output_type": "stream",
     "text": [
      "Data page 1 to 2 for province 28 saved to data/raw\\province_28_page_2.csv\n",
      "Data page 1 to 1 for province 29 saved to data/raw\\province_29_page_1.csv\n"
     ]
    },
    {
     "name": "stderr",
     "output_type": "stream",
     "text": [
      " 74%|███████▍  | 29/39 [00:20<00:06,  1.63it/s]"
     ]
    },
    {
     "name": "stdout",
     "output_type": "stream",
     "text": [
      "Data page 1 to 2 for province 29 saved to data/raw\\province_29_page_2.csv\n",
      "Data page 1 to 1 for province 30 saved to data/raw\\province_30_page_1.csv\n"
     ]
    },
    {
     "name": "stderr",
     "output_type": "stream",
     "text": [
      " 77%|███████▋  | 30/39 [00:21<00:05,  1.62it/s]"
     ]
    },
    {
     "name": "stdout",
     "output_type": "stream",
     "text": [
      "Data page 1 to 2 for province 30 saved to data/raw\\province_30_page_2.csv\n",
      "Data page 1 to 1 for province 31 saved to data/raw\\province_31_page_1.csv\n"
     ]
    },
    {
     "name": "stderr",
     "output_type": "stream",
     "text": [
      " 79%|███████▉  | 31/39 [00:21<00:04,  1.80it/s]"
     ]
    },
    {
     "name": "stdout",
     "output_type": "stream",
     "text": [
      "Data page 1 to 2 for province 31 saved to data/raw\\province_31_page_2.csv\n",
      "Data page 1 to 1 for province 32 saved to data/raw\\province_32_page_1.csv\n"
     ]
    },
    {
     "name": "stderr",
     "output_type": "stream",
     "text": [
      " 82%|████████▏ | 32/39 [00:21<00:03,  1.88it/s]"
     ]
    },
    {
     "name": "stdout",
     "output_type": "stream",
     "text": [
      "Data page 1 to 2 for province 32 saved to data/raw\\province_32_page_2.csv\n",
      "Data page 1 to 1 for province 33 saved to data/raw\\province_33_page_1.csv\n"
     ]
    },
    {
     "name": "stderr",
     "output_type": "stream",
     "text": [
      " 85%|████████▍ | 33/39 [00:22<00:03,  1.88it/s]"
     ]
    },
    {
     "name": "stdout",
     "output_type": "stream",
     "text": [
      "Data page 1 to 2 for province 33 saved to data/raw\\province_33_page_2.csv\n",
      "Data page 1 to 1 for province 34 saved to data/raw\\province_34_page_1.csv\n"
     ]
    },
    {
     "name": "stderr",
     "output_type": "stream",
     "text": [
      " 87%|████████▋ | 34/39 [00:23<00:02,  1.86it/s]"
     ]
    },
    {
     "name": "stdout",
     "output_type": "stream",
     "text": [
      "Data page 1 to 2 for province 34 saved to data/raw\\province_34_page_2.csv\n"
     ]
    },
    {
     "name": "stderr",
     "output_type": "stream",
     "text": [
      " 90%|████████▉ | 35/39 [00:23<00:02,  1.96it/s]"
     ]
    },
    {
     "name": "stdout",
     "output_type": "stream",
     "text": [
      "Data page 1 to 1 for province 35 saved to data/raw\\province_35_page_1.csv\n"
     ]
    },
    {
     "name": "stderr",
     "output_type": "stream",
     "text": [
      " 92%|█████████▏| 36/39 [00:23<00:01,  2.04it/s]"
     ]
    },
    {
     "name": "stdout",
     "output_type": "stream",
     "text": [
      "Data page 1 to 1 for province 36 saved to data/raw\\province_36_page_1.csv\n"
     ]
    },
    {
     "name": "stderr",
     "output_type": "stream",
     "text": [
      " 97%|█████████▋| 38/39 [00:24<00:00,  2.10it/s]"
     ]
    },
    {
     "name": "stdout",
     "output_type": "stream",
     "text": [
      "Data page 1 to 1 for province 38 saved to data/raw\\province_38_page_1.csv\n",
      "Data page 1 to 2 for province 38 saved to data/raw\\province_38_page_2.csv\n",
      "Data page 1 to 1 for province 99 saved to data/raw\\province_99_page_1.csv\n"
     ]
    },
    {
     "name": "stderr",
     "output_type": "stream",
     "text": [
      "100%|██████████| 39/39 [00:25<00:00,  1.54it/s]"
     ]
    },
    {
     "name": "stdout",
     "output_type": "stream",
     "text": [
      "Scraping finished!\n"
     ]
    },
    {
     "name": "stderr",
     "output_type": "stream",
     "text": [
      "\n"
     ]
    }
   ],
   "source": [
    "generate(provinces, pages)"
   ]
  },
  {
   "cell_type": "code",
   "execution_count": 7,
   "metadata": {},
   "outputs": [],
   "source": [
    "# extract number from files\n",
    "def extract_numbers(filename):\n",
    "    match = re.search(r'province_(\\d+)_page_(\\d+)\\.csv', filename)\n",
    "    if match:\n",
    "        province = int(match.group(1))\n",
    "        page = int(match.group(2))\n",
    "        return (province, page)\n",
    "    return (float('inf'), float('inf'))  # If not match, let it to the end\n",
    "\n",
    "# combine all data scrapping into single csv file\n",
    "def combined_data():\n",
    "    df = []\n",
    "    for filename in os.listdir(f'{directory}/raw'):\n",
    "        if filename.endswith('.csv'):\n",
    "            path_file = os.path.join(f'{directory}/raw', filename)\n",
    "            df.append((path_file, extract_numbers(filename)))\n",
    "\n",
    "    # Sort by province number and page\n",
    "    df.sort(key=lambda x: x[1])\n",
    "\n",
    "    # Stored into pandas dataframe\n",
    "    sorted_df = [pd.read_csv(file[0]) for file in df]\n",
    "\n",
    "    # Combined all pandas df\n",
    "    combined_df = pd.concat(sorted_df, ignore_index=True)\n",
    "\n",
    "    # Save to csv file with filename \"siinas_data.csv\" in raw data directory  \n",
    "    output_file = os.path.join(f'{directory}/raw', 'siinas_data.csv')\n",
    "    combined_df.to_csv(output_file, index=False)\n",
    "    print(\"Combined data saved to raw/siinas_data.csv\")"
   ]
  },
  {
   "cell_type": "code",
   "execution_count": 8,
   "metadata": {},
   "outputs": [
    {
     "name": "stdout",
     "output_type": "stream",
     "text": [
      "Combined data saved to raw/siinas_data.csv\n"
     ]
    }
   ],
   "source": [
    "combined_data()"
   ]
  },
  {
   "cell_type": "code",
   "execution_count": 9,
   "metadata": {},
   "outputs": [
    {
     "data": {
      "text/html": [
       "<div>\n",
       "<style scoped>\n",
       "    .dataframe tbody tr th:only-of-type {\n",
       "        vertical-align: middle;\n",
       "    }\n",
       "\n",
       "    .dataframe tbody tr th {\n",
       "        vertical-align: top;\n",
       "    }\n",
       "\n",
       "    .dataframe thead th {\n",
       "        text-align: right;\n",
       "    }\n",
       "</style>\n",
       "<table border=\"1\" class=\"dataframe\">\n",
       "  <thead>\n",
       "    <tr style=\"text-align: right;\">\n",
       "      <th></th>\n",
       "      <th>id</th>\n",
       "      <th>name</th>\n",
       "      <th>address</th>\n",
       "      <th>phone</th>\n",
       "      <th>kbli</th>\n",
       "    </tr>\n",
       "  </thead>\n",
       "  <tbody>\n",
       "    <tr>\n",
       "      <th>0</th>\n",
       "      <td>1</td>\n",
       "      <td>PR  ANDRIANA MAH BENGI</td>\n",
       "      <td>Jl.yosudarso, Blang Kolak II, Bebesen, Kabupat...</td>\n",
       "      <td>Telp. 081*********</td>\n",
       "      <td>20232.0</td>\n",
       "    </tr>\n",
       "    <tr>\n",
       "      <th>1</th>\n",
       "      <td>2</td>\n",
       "      <td>PR Abd Rahim</td>\n",
       "      <td>Jl. Sp. Teritit - Pondok Baru, Uning Teritit, ...</td>\n",
       "      <td>Telp. 081*********</td>\n",
       "      <td>NaN</td>\n",
       "    </tr>\n",
       "    <tr>\n",
       "      <th>2</th>\n",
       "      <td>3</td>\n",
       "      <td>PR Abdul Gani M Juned</td>\n",
       "      <td>Mutiara Baru, Mutiara Baru, Bukit, Kabupaten B...</td>\n",
       "      <td>Telp. 085*********</td>\n",
       "      <td>10794.0</td>\n",
       "    </tr>\n",
       "    <tr>\n",
       "      <th>3</th>\n",
       "      <td>4</td>\n",
       "      <td>PR Abdul Salam</td>\n",
       "      <td>LR. GUNONG MEUH, Kuta Padang, Johan Pahwalan, ...</td>\n",
       "      <td>Telp. -</td>\n",
       "      <td>11040.0</td>\n",
       "    </tr>\n",
       "    <tr>\n",
       "      <th>4</th>\n",
       "      <td>5</td>\n",
       "      <td>PR Abdus Salam Ramli</td>\n",
       "      <td>jl. SKB, Matang Seulimeng, Langsa Barat, Kota ...</td>\n",
       "      <td>Telp. 0</td>\n",
       "      <td>12013.0</td>\n",
       "    </tr>\n",
       "  </tbody>\n",
       "</table>\n",
       "</div>"
      ],
      "text/plain": [
       "   id                    name  \\\n",
       "0   1  PR  ANDRIANA MAH BENGI   \n",
       "1   2            PR Abd Rahim   \n",
       "2   3   PR Abdul Gani M Juned   \n",
       "3   4          PR Abdul Salam   \n",
       "4   5    PR Abdus Salam Ramli   \n",
       "\n",
       "                                             address               phone  \\\n",
       "0  Jl.yosudarso, Blang Kolak II, Bebesen, Kabupat...  Telp. 081*********   \n",
       "1  Jl. Sp. Teritit - Pondok Baru, Uning Teritit, ...  Telp. 081*********   \n",
       "2  Mutiara Baru, Mutiara Baru, Bukit, Kabupaten B...  Telp. 085*********   \n",
       "3  LR. GUNONG MEUH, Kuta Padang, Johan Pahwalan, ...             Telp. -   \n",
       "4  jl. SKB, Matang Seulimeng, Langsa Barat, Kota ...             Telp. 0   \n",
       "\n",
       "      kbli  \n",
       "0  20232.0  \n",
       "1      NaN  \n",
       "2  10794.0  \n",
       "3  11040.0  \n",
       "4  12013.0  "
      ]
     },
     "execution_count": 9,
     "metadata": {},
     "output_type": "execute_result"
    }
   ],
   "source": [
    "siinas_df = pd.read_csv(f'{directory}/raw/siinas_data.csv')\n",
    "siinas_df.head()"
   ]
  }
 ],
 "metadata": {
  "kernelspec": {
   "display_name": "venv",
   "language": "python",
   "name": "python3"
  },
  "language_info": {
   "codemirror_mode": {
    "name": "ipython",
    "version": 3
   },
   "file_extension": ".py",
   "mimetype": "text/x-python",
   "name": "python",
   "nbconvert_exporter": "python",
   "pygments_lexer": "ipython3",
   "version": "3.12.5"
  }
 },
 "nbformat": 4,
 "nbformat_minor": 2
}
