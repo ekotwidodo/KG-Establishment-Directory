{
 "cells": [
  {
   "cell_type": "code",
   "execution_count": 30,
   "metadata": {},
   "outputs": [],
   "source": [
    "import os\n",
    "import requests\n",
    "import json\n",
    "import pandas as pd\n",
    "from tqdm import tqdm\n",
    "from dotenv import load_dotenv, find_dotenv\n",
    "# load .env\n",
    "load_dotenv(find_dotenv())"
   ]
  },
  {
   "cell_type": "code",
   "execution_count": 9,
   "metadata": {},
   "outputs": [],
   "source": [
    "# Turn off SettingWithCopyWarning\n",
    "pd.options.mode.chained_assignment = None  # default='warn'"
   ]
  },
  {
   "cell_type": "code",
   "execution_count": 31,
   "metadata": {},
   "outputs": [],
   "source": [
    "directory = \"data\"\n",
    "# API ENDPOINT\n",
    "base_url = os.getenv('BASE_URL_WEBAPI_BPS')\n",
    "# API Key\n",
    "api_key = os.getenv('WEBAPI_BPS_API_KEY')"
   ]
  },
  {
   "cell_type": "code",
   "execution_count": 32,
   "metadata": {},
   "outputs": [],
   "source": [
    "# mengambil data kbli2020\n",
    "def get_data_kbli(kbli, page, perpage, level):\n",
    "  \"\"\"\n",
    "  Fungsi untuk mengambil data dari API KBLI2020\n",
    "  \"\"\"\n",
    "  full_url = f\"{base_url}/{kbli}/page/{page}/perpage/{perpage}/level/{level}/key/{api_key}\"\n",
    "  print(full_url)\n",
    "  response = requests.get(full_url)\n",
    "  return response.json()"
   ]
  },
  {
   "cell_type": "code",
   "execution_count": 33,
   "metadata": {},
   "outputs": [],
   "source": [
    "def save_json_to_directory(data, page):\n",
    "  # Cek apakah direktori sudah ada, jika belum, buat direktori tersebut\n",
    "  if not os.path.exists(directory):\n",
    "    os.makedirs(directory)\n",
    "  # Tentukan path lengkap untuk file JSON\n",
    "  file_path = os.path.join(f\"{directory}/raw\", f\"data_{page}.json\")\n",
    "  # Menyimpan file JSON ke path yang sudah ditentukan\n",
    "  with open(file_path, 'w') as json_file:\n",
    "    # Menggunakan json.dump(), bukan dict.dump()\n",
    "    json.dump(data, json_file, indent=4)"
   ]
  },
  {
   "cell_type": "code",
   "execution_count": 35,
   "metadata": {},
   "outputs": [
    {
     "name": "stderr",
     "output_type": "stream",
     "text": [
      "  0%|          | 0/4 [00:00<?, ?it/s]"
     ]
    },
    {
     "name": "stdout",
     "output_type": "stream",
     "text": [
      "https://webapi.bps.go.id/v1/api/list/model/kbli2020/page/1/perpage/500/level/kelompok/key/41cb2c370758706a51b38f0a7b59f742\n"
     ]
    },
    {
     "name": "stderr",
     "output_type": "stream",
     "text": [
      " 25%|██▌       | 1/4 [00:02<00:07,  2.50s/it]"
     ]
    },
    {
     "name": "stdout",
     "output_type": "stream",
     "text": [
      "https://webapi.bps.go.id/v1/api/list/model/kbli2020/page/2/perpage/500/level/kelompok/key/41cb2c370758706a51b38f0a7b59f742\n"
     ]
    },
    {
     "name": "stderr",
     "output_type": "stream",
     "text": [
      " 50%|█████     | 2/4 [00:05<00:05,  2.63s/it]"
     ]
    },
    {
     "name": "stdout",
     "output_type": "stream",
     "text": [
      "https://webapi.bps.go.id/v1/api/list/model/kbli2020/page/3/perpage/500/level/kelompok/key/41cb2c370758706a51b38f0a7b59f742\n"
     ]
    },
    {
     "name": "stderr",
     "output_type": "stream",
     "text": [
      " 75%|███████▌  | 3/4 [00:08<00:03,  3.07s/it]"
     ]
    },
    {
     "name": "stdout",
     "output_type": "stream",
     "text": [
      "https://webapi.bps.go.id/v1/api/list/model/kbli2020/page/4/perpage/500/level/kelompok/key/41cb2c370758706a51b38f0a7b59f742\n"
     ]
    },
    {
     "name": "stderr",
     "output_type": "stream",
     "text": [
      "100%|██████████| 4/4 [00:11<00:00,  2.88s/it]\n"
     ]
    }
   ],
   "source": [
    "# looping dari page 1-4\n",
    "for page in tqdm(range(1, 5)):\n",
    "  url = base_url.format(page)\n",
    "  data = get_data_kbli('kbli2020', page, 500, 'kelompok')\n",
    "  # print(json)\n",
    "  save_json_to_directory(data, page)"
   ]
  }
 ],
 "metadata": {
  "kernelspec": {
   "display_name": "venv",
   "language": "python",
   "name": "python3"
  },
  "language_info": {
   "codemirror_mode": {
    "name": "ipython",
    "version": 3
   },
   "file_extension": ".py",
   "mimetype": "text/x-python",
   "name": "python",
   "nbconvert_exporter": "python",
   "pygments_lexer": "ipython3",
   "version": "3.10.6"
  }
 },
 "nbformat": 4,
 "nbformat_minor": 2
}
