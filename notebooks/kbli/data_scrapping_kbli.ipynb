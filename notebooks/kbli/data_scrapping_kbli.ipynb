{
 "cells": [
  {
   "cell_type": "code",
   "execution_count": 1,
   "metadata": {},
   "outputs": [
    {
     "data": {
      "text/plain": [
       "True"
      ]
     },
     "execution_count": 1,
     "metadata": {},
     "output_type": "execute_result"
    }
   ],
   "source": [
    "import os\n",
    "import requests\n",
    "import json\n",
    "import pandas as pd\n",
    "from tqdm import tqdm\n",
    "from dotenv import load_dotenv, find_dotenv\n",
    "# load .env\n",
    "load_dotenv(find_dotenv())"
   ]
  },
  {
   "cell_type": "code",
   "execution_count": 2,
   "metadata": {},
   "outputs": [],
   "source": [
    "# Turn off SettingWithCopyWarning\n",
    "pd.options.mode.chained_assignment = None  # default='warn'"
   ]
  },
  {
   "cell_type": "code",
   "execution_count": 3,
   "metadata": {},
   "outputs": [],
   "source": [
    "directory = \"data\"\n",
    "# API ENDPOINT\n",
    "base_url = os.getenv('BASE_URL_WEBAPI_BPS')\n",
    "# url kbli\n",
    "kbli_url = os.getenv('BASE_URL_KBLI_BPS')\n",
    "# API Key\n",
    "api_key = os.getenv('WEBAPI_BPS_API_KEY')"
   ]
  },
  {
   "cell_type": "code",
   "execution_count": 4,
   "metadata": {},
   "outputs": [],
   "source": [
    "# mengambil data kbli2020\n",
    "def get_data_kbli(kbli, page, perpage, level):\n",
    "  \"\"\"\n",
    "  Fungsi untuk mengambil data dari API KBLI2020\n",
    "  \"\"\"\n",
    "  full_url = f\"{base_url}/{kbli}/page/{page}/perpage/{perpage}/level/{level}/key/{api_key}\"\n",
    "  print(full_url)\n",
    "  response = requests.get(full_url)\n",
    "  return response.json()"
   ]
  },
  {
   "cell_type": "code",
   "execution_count": 5,
   "metadata": {},
   "outputs": [],
   "source": [
    "def save_json_to_directory(data, page):\n",
    "  # Cek apakah direktori sudah ada, jika belum, buat direktori tersebut\n",
    "  if not os.path.exists(directory):\n",
    "    os.makedirs(directory)\n",
    "  # Tentukan path lengkap untuk file JSON\n",
    "  file_path = os.path.join(f\"{directory}/raw\", f\"data_{page}.json\")\n",
    "  # Menyimpan file JSON ke path yang sudah ditentukan\n",
    "  with open(file_path, 'w') as json_file:\n",
    "    # Menggunakan json.dump(), bukan dict.dump()\n",
    "    json.dump(data, json_file, indent=4)"
   ]
  },
  {
   "cell_type": "code",
   "execution_count": 6,
   "metadata": {},
   "outputs": [
    {
     "name": "stderr",
     "output_type": "stream",
     "text": [
      "  0%|          | 0/4 [00:00<?, ?it/s]"
     ]
    },
    {
     "name": "stdout",
     "output_type": "stream",
     "text": [
      "https://webapi.bps.go.id/v1/api/list/model/kbli2020/page/1/perpage/500/level/kelompok/key/41cb2c370758706a51b38f0a7b59f742\n"
     ]
    },
    {
     "name": "stderr",
     "output_type": "stream",
     "text": [
      " 25%|██▌       | 1/4 [00:01<00:03,  1.14s/it]"
     ]
    },
    {
     "name": "stdout",
     "output_type": "stream",
     "text": [
      "https://webapi.bps.go.id/v1/api/list/model/kbli2020/page/2/perpage/500/level/kelompok/key/41cb2c370758706a51b38f0a7b59f742\n"
     ]
    },
    {
     "name": "stderr",
     "output_type": "stream",
     "text": [
      " 50%|█████     | 2/4 [00:02<00:02,  1.33s/it]"
     ]
    },
    {
     "name": "stdout",
     "output_type": "stream",
     "text": [
      "https://webapi.bps.go.id/v1/api/list/model/kbli2020/page/3/perpage/500/level/kelompok/key/41cb2c370758706a51b38f0a7b59f742\n"
     ]
    },
    {
     "name": "stderr",
     "output_type": "stream",
     "text": [
      " 75%|███████▌  | 3/4 [00:03<00:01,  1.31s/it]"
     ]
    },
    {
     "name": "stdout",
     "output_type": "stream",
     "text": [
      "https://webapi.bps.go.id/v1/api/list/model/kbli2020/page/4/perpage/500/level/kelompok/key/41cb2c370758706a51b38f0a7b59f742\n"
     ]
    },
    {
     "name": "stderr",
     "output_type": "stream",
     "text": [
      "100%|██████████| 4/4 [00:04<00:00,  1.18s/it]\n"
     ]
    }
   ],
   "source": [
    "# looping dari page 1-4\n",
    "for page in tqdm(range(1, 5)):\n",
    "  url = base_url.format(page)\n",
    "  data = get_data_kbli('kbli2020', page, 500, 'kelompok')\n",
    "  # print(json)\n",
    "  save_json_to_directory(data, page)"
   ]
  },
  {
   "cell_type": "code",
   "execution_count": 4,
   "metadata": {},
   "outputs": [],
   "source": [
    "# read json files\n",
    "def read_json_files():\n",
    "  # Daftar semua file dalam direktori\n",
    "  files = os.listdir(f\"{directory}/raw\")\n",
    "  # Filter hanya file JSON\n",
    "  json_files = [file for file in files if file.endswith('.json')]\n",
    "  # Loop untuk membaca setiap file JSON\n",
    "  data_list = []\n",
    "  for file_name in json_files:\n",
    "      file_path = os.path.join(f\"{directory}/raw\", file_name)\n",
    "      \n",
    "      # Buka dan baca file JSON\n",
    "      with open(file_path, 'r') as json_file:\n",
    "          data = json.load(json_file)\n",
    "          # mengambil data\n",
    "          json_data = data['data'][1]\n",
    "          for jd in json_data:\n",
    "            data_list.append(jd['_source'])  # Simpan data dari setiap file JSON ke dalam list\n",
    "\n",
    "  return data_list\n",
    "\n",
    "def extract_json_list(json_list):\n",
    "    list_data = []\n",
    "    for item in tqdm(json_list):\n",
    "        data = {}\n",
    "        data['id'] = item.get(\"id\")\n",
    "        data['jenis'] = item.get(\"jenis\")\n",
    "        data['sumber'] = item.get(\"source\")\n",
    "        data['kode_kbli'] = item.get(\"id\").split(\"_\")[2]\n",
    "        data['judul'] = item.get(\"judul\").split(\"] \")[1]\n",
    "        data['last_update'] = item.get(\"last_update\")\n",
    "        data['url_kbli'] = item.get(\"url\")\n",
    "        data['tags'] = item.get(\"tags\")\n",
    "\n",
    "        list_sebelumnya = item.get(\"sebelumnya\")\n",
    "        for sebelumnya in list_sebelumnya:\n",
    "            if (len(sebelumnya['kode']) == 4):\n",
    "                data['subgolongan_kode'] = sebelumnya[\"kode\"]\n",
    "                data['subgolongan_judul'] = sebelumnya[\"judul\"]\n",
    "                data['subgolongan_url'] = f\"{kbli_url}/{sebelumnya['kode']}\"\n",
    "            if (len(sebelumnya['kode']) == 3):\n",
    "                data['golongan_kode'] = sebelumnya[\"kode\"]\n",
    "                data['golongan_judul'] = sebelumnya[\"judul\"]\n",
    "                data['golongan_url'] = f\"{kbli_url}/{sebelumnya['kode']}\"\n",
    "            if (len(sebelumnya['kode']) == 2):\n",
    "                data['golongan_pokok_kode'] = sebelumnya[\"kode\"]\n",
    "                data['golongan_pokok_judul'] = sebelumnya[\"judul\"]\n",
    "                data['golongan_pokok_url'] = f\"{kbli_url}/{sebelumnya['kode']}\"\n",
    "            if (len(sebelumnya['kode']) == 1):\n",
    "                data['kategori_kode'] = sebelumnya[\"kode\"]\n",
    "                data['kategori_judul'] = sebelumnya[\"judul\"]\n",
    "                data['kategori_url'] = f\"{kbli_url}/{sebelumnya['kode']}\"\n",
    "\n",
    "        list_data.append(data)\n",
    "    \n",
    "    return pd.DataFrame(list_data)"
   ]
  },
  {
   "cell_type": "code",
   "execution_count": 5,
   "metadata": {},
   "outputs": [
    {
     "name": "stderr",
     "output_type": "stream",
     "text": [
      "100%|██████████| 1789/1789 [00:00<00:00, 135804.57it/s]\n"
     ]
    },
    {
     "data": {
      "text/html": [
       "<div>\n",
       "<style scoped>\n",
       "    .dataframe tbody tr th:only-of-type {\n",
       "        vertical-align: middle;\n",
       "    }\n",
       "\n",
       "    .dataframe tbody tr th {\n",
       "        vertical-align: top;\n",
       "    }\n",
       "\n",
       "    .dataframe thead th {\n",
       "        text-align: right;\n",
       "    }\n",
       "</style>\n",
       "<table border=\"1\" class=\"dataframe\">\n",
       "  <thead>\n",
       "    <tr style=\"text-align: right;\">\n",
       "      <th></th>\n",
       "      <th>id</th>\n",
       "      <th>jenis</th>\n",
       "      <th>sumber</th>\n",
       "      <th>kode_kbli</th>\n",
       "      <th>judul</th>\n",
       "      <th>last_update</th>\n",
       "      <th>url_kbli</th>\n",
       "      <th>tags</th>\n",
       "      <th>subgolongan_kode</th>\n",
       "      <th>subgolongan_judul</th>\n",
       "      <th>subgolongan_url</th>\n",
       "      <th>golongan_kode</th>\n",
       "      <th>golongan_judul</th>\n",
       "      <th>golongan_url</th>\n",
       "      <th>golongan_pokok_kode</th>\n",
       "      <th>golongan_pokok_judul</th>\n",
       "      <th>golongan_pokok_url</th>\n",
       "      <th>kategori_kode</th>\n",
       "      <th>kategori_judul</th>\n",
       "      <th>kategori_url</th>\n",
       "    </tr>\n",
       "  </thead>\n",
       "  <tbody>\n",
       "    <tr>\n",
       "      <th>0</th>\n",
       "      <td>kbli_2020_01111</td>\n",
       "      <td>kbli2020</td>\n",
       "      <td>Metadata Management System (MMS)</td>\n",
       "      <td>01111</td>\n",
       "      <td>Pertanian Jagung</td>\n",
       "      <td>2023-12-21</td>\n",
       "      <td>https://klasifikasi.web.bps.go.id/app/view/kbl...</td>\n",
       "      <td>[pertanian, agriculture]</td>\n",
       "      <td>0111</td>\n",
       "      <td>Pertanian serealia (bukan padi), aneka kacang ...</td>\n",
       "      <td>https://klasifikasi.web.bps.go.id/app/view/kbl...</td>\n",
       "      <td>011</td>\n",
       "      <td>Pertanian Tanaman Semusim</td>\n",
       "      <td>https://klasifikasi.web.bps.go.id/app/view/kbl...</td>\n",
       "      <td>01</td>\n",
       "      <td>Pertanian Tanaman, Peternakan, Perburuan dan K...</td>\n",
       "      <td>https://klasifikasi.web.bps.go.id/app/view/kbl...</td>\n",
       "      <td>A</td>\n",
       "      <td>Pertanian, Kehutanan dan Perikanan</td>\n",
       "      <td>https://klasifikasi.web.bps.go.id/app/view/kbl...</td>\n",
       "    </tr>\n",
       "    <tr>\n",
       "      <th>1</th>\n",
       "      <td>kbli_2020_01112</td>\n",
       "      <td>kbli2020</td>\n",
       "      <td>Metadata Management System (MMS)</td>\n",
       "      <td>01112</td>\n",
       "      <td>Pertanian Gandum</td>\n",
       "      <td>2023-12-21</td>\n",
       "      <td>https://klasifikasi.web.bps.go.id/app/view/kbl...</td>\n",
       "      <td>[pertanian, agriculture]</td>\n",
       "      <td>0111</td>\n",
       "      <td>Pertanian serealia (bukan padi), aneka kacang ...</td>\n",
       "      <td>https://klasifikasi.web.bps.go.id/app/view/kbl...</td>\n",
       "      <td>011</td>\n",
       "      <td>Pertanian Tanaman Semusim</td>\n",
       "      <td>https://klasifikasi.web.bps.go.id/app/view/kbl...</td>\n",
       "      <td>01</td>\n",
       "      <td>Pertanian Tanaman, Peternakan, Perburuan dan K...</td>\n",
       "      <td>https://klasifikasi.web.bps.go.id/app/view/kbl...</td>\n",
       "      <td>A</td>\n",
       "      <td>Pertanian, Kehutanan dan Perikanan</td>\n",
       "      <td>https://klasifikasi.web.bps.go.id/app/view/kbl...</td>\n",
       "    </tr>\n",
       "    <tr>\n",
       "      <th>2</th>\n",
       "      <td>kbli_2020_01113</td>\n",
       "      <td>kbli2020</td>\n",
       "      <td>Metadata Management System (MMS)</td>\n",
       "      <td>01113</td>\n",
       "      <td>Pertanian Kedelai</td>\n",
       "      <td>2023-12-21</td>\n",
       "      <td>https://klasifikasi.web.bps.go.id/app/view/kbl...</td>\n",
       "      <td>[pertanian, agriculture]</td>\n",
       "      <td>0111</td>\n",
       "      <td>Pertanian serealia (bukan padi), aneka kacang ...</td>\n",
       "      <td>https://klasifikasi.web.bps.go.id/app/view/kbl...</td>\n",
       "      <td>011</td>\n",
       "      <td>Pertanian Tanaman Semusim</td>\n",
       "      <td>https://klasifikasi.web.bps.go.id/app/view/kbl...</td>\n",
       "      <td>01</td>\n",
       "      <td>Pertanian Tanaman, Peternakan, Perburuan dan K...</td>\n",
       "      <td>https://klasifikasi.web.bps.go.id/app/view/kbl...</td>\n",
       "      <td>A</td>\n",
       "      <td>Pertanian, Kehutanan dan Perikanan</td>\n",
       "      <td>https://klasifikasi.web.bps.go.id/app/view/kbl...</td>\n",
       "    </tr>\n",
       "    <tr>\n",
       "      <th>3</th>\n",
       "      <td>kbli_2020_01114</td>\n",
       "      <td>kbli2020</td>\n",
       "      <td>Metadata Management System (MMS)</td>\n",
       "      <td>01114</td>\n",
       "      <td>Pertanian Kacang Tanah</td>\n",
       "      <td>2023-12-21</td>\n",
       "      <td>https://klasifikasi.web.bps.go.id/app/view/kbl...</td>\n",
       "      <td>[pertanian, agriculture]</td>\n",
       "      <td>0111</td>\n",
       "      <td>Pertanian serealia (bukan padi), aneka kacang ...</td>\n",
       "      <td>https://klasifikasi.web.bps.go.id/app/view/kbl...</td>\n",
       "      <td>011</td>\n",
       "      <td>Pertanian Tanaman Semusim</td>\n",
       "      <td>https://klasifikasi.web.bps.go.id/app/view/kbl...</td>\n",
       "      <td>01</td>\n",
       "      <td>Pertanian Tanaman, Peternakan, Perburuan dan K...</td>\n",
       "      <td>https://klasifikasi.web.bps.go.id/app/view/kbl...</td>\n",
       "      <td>A</td>\n",
       "      <td>Pertanian, Kehutanan dan Perikanan</td>\n",
       "      <td>https://klasifikasi.web.bps.go.id/app/view/kbl...</td>\n",
       "    </tr>\n",
       "    <tr>\n",
       "      <th>4</th>\n",
       "      <td>kbli_2020_01115</td>\n",
       "      <td>kbli2020</td>\n",
       "      <td>Metadata Management System (MMS)</td>\n",
       "      <td>01115</td>\n",
       "      <td>Pertanian Kacang Hijau</td>\n",
       "      <td>2023-12-21</td>\n",
       "      <td>https://klasifikasi.web.bps.go.id/app/view/kbl...</td>\n",
       "      <td>[pertanian, agriculture]</td>\n",
       "      <td>0111</td>\n",
       "      <td>Pertanian serealia (bukan padi), aneka kacang ...</td>\n",
       "      <td>https://klasifikasi.web.bps.go.id/app/view/kbl...</td>\n",
       "      <td>011</td>\n",
       "      <td>Pertanian Tanaman Semusim</td>\n",
       "      <td>https://klasifikasi.web.bps.go.id/app/view/kbl...</td>\n",
       "      <td>01</td>\n",
       "      <td>Pertanian Tanaman, Peternakan, Perburuan dan K...</td>\n",
       "      <td>https://klasifikasi.web.bps.go.id/app/view/kbl...</td>\n",
       "      <td>A</td>\n",
       "      <td>Pertanian, Kehutanan dan Perikanan</td>\n",
       "      <td>https://klasifikasi.web.bps.go.id/app/view/kbl...</td>\n",
       "    </tr>\n",
       "  </tbody>\n",
       "</table>\n",
       "</div>"
      ],
      "text/plain": [
       "                id     jenis                            sumber kode_kbli  \\\n",
       "0  kbli_2020_01111  kbli2020  Metadata Management System (MMS)     01111   \n",
       "1  kbli_2020_01112  kbli2020  Metadata Management System (MMS)     01112   \n",
       "2  kbli_2020_01113  kbli2020  Metadata Management System (MMS)     01113   \n",
       "3  kbli_2020_01114  kbli2020  Metadata Management System (MMS)     01114   \n",
       "4  kbli_2020_01115  kbli2020  Metadata Management System (MMS)     01115   \n",
       "\n",
       "                    judul last_update  \\\n",
       "0        Pertanian Jagung  2023-12-21   \n",
       "1        Pertanian Gandum  2023-12-21   \n",
       "2       Pertanian Kedelai  2023-12-21   \n",
       "3  Pertanian Kacang Tanah  2023-12-21   \n",
       "4  Pertanian Kacang Hijau  2023-12-21   \n",
       "\n",
       "                                            url_kbli  \\\n",
       "0  https://klasifikasi.web.bps.go.id/app/view/kbl...   \n",
       "1  https://klasifikasi.web.bps.go.id/app/view/kbl...   \n",
       "2  https://klasifikasi.web.bps.go.id/app/view/kbl...   \n",
       "3  https://klasifikasi.web.bps.go.id/app/view/kbl...   \n",
       "4  https://klasifikasi.web.bps.go.id/app/view/kbl...   \n",
       "\n",
       "                       tags subgolongan_kode  \\\n",
       "0  [pertanian, agriculture]             0111   \n",
       "1  [pertanian, agriculture]             0111   \n",
       "2  [pertanian, agriculture]             0111   \n",
       "3  [pertanian, agriculture]             0111   \n",
       "4  [pertanian, agriculture]             0111   \n",
       "\n",
       "                                   subgolongan_judul  \\\n",
       "0  Pertanian serealia (bukan padi), aneka kacang ...   \n",
       "1  Pertanian serealia (bukan padi), aneka kacang ...   \n",
       "2  Pertanian serealia (bukan padi), aneka kacang ...   \n",
       "3  Pertanian serealia (bukan padi), aneka kacang ...   \n",
       "4  Pertanian serealia (bukan padi), aneka kacang ...   \n",
       "\n",
       "                                     subgolongan_url golongan_kode  \\\n",
       "0  https://klasifikasi.web.bps.go.id/app/view/kbl...           011   \n",
       "1  https://klasifikasi.web.bps.go.id/app/view/kbl...           011   \n",
       "2  https://klasifikasi.web.bps.go.id/app/view/kbl...           011   \n",
       "3  https://klasifikasi.web.bps.go.id/app/view/kbl...           011   \n",
       "4  https://klasifikasi.web.bps.go.id/app/view/kbl...           011   \n",
       "\n",
       "              golongan_judul  \\\n",
       "0  Pertanian Tanaman Semusim   \n",
       "1  Pertanian Tanaman Semusim   \n",
       "2  Pertanian Tanaman Semusim   \n",
       "3  Pertanian Tanaman Semusim   \n",
       "4  Pertanian Tanaman Semusim   \n",
       "\n",
       "                                        golongan_url golongan_pokok_kode  \\\n",
       "0  https://klasifikasi.web.bps.go.id/app/view/kbl...                  01   \n",
       "1  https://klasifikasi.web.bps.go.id/app/view/kbl...                  01   \n",
       "2  https://klasifikasi.web.bps.go.id/app/view/kbl...                  01   \n",
       "3  https://klasifikasi.web.bps.go.id/app/view/kbl...                  01   \n",
       "4  https://klasifikasi.web.bps.go.id/app/view/kbl...                  01   \n",
       "\n",
       "                                golongan_pokok_judul  \\\n",
       "0  Pertanian Tanaman, Peternakan, Perburuan dan K...   \n",
       "1  Pertanian Tanaman, Peternakan, Perburuan dan K...   \n",
       "2  Pertanian Tanaman, Peternakan, Perburuan dan K...   \n",
       "3  Pertanian Tanaman, Peternakan, Perburuan dan K...   \n",
       "4  Pertanian Tanaman, Peternakan, Perburuan dan K...   \n",
       "\n",
       "                                  golongan_pokok_url kategori_kode  \\\n",
       "0  https://klasifikasi.web.bps.go.id/app/view/kbl...             A   \n",
       "1  https://klasifikasi.web.bps.go.id/app/view/kbl...             A   \n",
       "2  https://klasifikasi.web.bps.go.id/app/view/kbl...             A   \n",
       "3  https://klasifikasi.web.bps.go.id/app/view/kbl...             A   \n",
       "4  https://klasifikasi.web.bps.go.id/app/view/kbl...             A   \n",
       "\n",
       "                       kategori_judul  \\\n",
       "0  Pertanian, Kehutanan dan Perikanan   \n",
       "1  Pertanian, Kehutanan dan Perikanan   \n",
       "2  Pertanian, Kehutanan dan Perikanan   \n",
       "3  Pertanian, Kehutanan dan Perikanan   \n",
       "4  Pertanian, Kehutanan dan Perikanan   \n",
       "\n",
       "                                        kategori_url  \n",
       "0  https://klasifikasi.web.bps.go.id/app/view/kbl...  \n",
       "1  https://klasifikasi.web.bps.go.id/app/view/kbl...  \n",
       "2  https://klasifikasi.web.bps.go.id/app/view/kbl...  \n",
       "3  https://klasifikasi.web.bps.go.id/app/view/kbl...  \n",
       "4  https://klasifikasi.web.bps.go.id/app/view/kbl...  "
      ]
     },
     "execution_count": 5,
     "metadata": {},
     "output_type": "execute_result"
    }
   ],
   "source": [
    "list_data = read_json_files()\n",
    "final_df = extract_json_list(list_data)\n",
    "final_df.head()"
   ]
  },
  {
   "cell_type": "code",
   "execution_count": 8,
   "metadata": {},
   "outputs": [
    {
     "name": "stdout",
     "output_type": "stream",
     "text": [
      "Data saved to kbli2020.csv\n"
     ]
    }
   ],
   "source": [
    " # Save to csv\n",
    "kbli_file = os.path.join(f'{directory}/raw', 'kbli2020.csv')\n",
    "final_df.to_csv(kbli_file, index=False)\n",
    "print(\"Data saved to kbli2020.csv\")"
   ]
  }
 ],
 "metadata": {
  "kernelspec": {
   "display_name": "venv",
   "language": "python",
   "name": "python3"
  },
  "language_info": {
   "codemirror_mode": {
    "name": "ipython",
    "version": 3
   },
   "file_extension": ".py",
   "mimetype": "text/x-python",
   "name": "python",
   "nbconvert_exporter": "python",
   "pygments_lexer": "ipython3",
   "version": "3.12.5"
  }
 },
 "nbformat": 4,
 "nbformat_minor": 2
}
